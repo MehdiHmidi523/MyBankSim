{
 "cells": [
  {
   "cell_type": "markdown",
   "metadata": {},
   "source": [
    "# Data Exploration: Portfolio 5 @AstonML:   Mehdi Hmidi\n",
    "\n",
    "BankSim data presents a table of transactions, transaction attributes (e.g. customer age, customer gender, ZIP code, merchant, purchase category, amount, etc.), and whether or not a transaction is fraudulent (0/1). \n",
    "\n",
    "## Fetching Data ..."
   ]
  },
  {
   "cell_type": "code",
   "execution_count": 1,
   "metadata": {},
   "outputs": [
    {
     "name": "stderr",
     "output_type": "stream",
     "text": [
      "/Library/Frameworks/Python.framework/Versions/3.8/lib/python3.8/site-packages/IPython/core/interactiveshell.py:3062: DtypeWarning: Columns (0,8,9) have mixed types.Specify dtype option on import or set low_memory=False.\n",
      "  has_raised = await self.run_ast_nodes(code_ast.body, cell_name,\n"
     ]
    },
    {
     "data": {
      "text/html": [
       "<div>\n",
       "<style scoped>\n",
       "    .dataframe tbody tr th:only-of-type {\n",
       "        vertical-align: middle;\n",
       "    }\n",
       "\n",
       "    .dataframe tbody tr th {\n",
       "        vertical-align: top;\n",
       "    }\n",
       "\n",
       "    .dataframe thead th {\n",
       "        text-align: right;\n",
       "    }\n",
       "</style>\n",
       "<table border=\"1\" class=\"dataframe\">\n",
       "  <thead>\n",
       "    <tr style=\"text-align: right;\">\n",
       "      <th></th>\n",
       "      <th>step</th>\n",
       "      <th>customer</th>\n",
       "      <th>age</th>\n",
       "      <th>gender</th>\n",
       "      <th>zipcodeOri</th>\n",
       "      <th>merchant</th>\n",
       "      <th>zipMerchant</th>\n",
       "      <th>category</th>\n",
       "      <th>amount</th>\n",
       "      <th>fraud</th>\n",
       "    </tr>\n",
       "  </thead>\n",
       "  <tbody>\n",
       "    <tr>\n",
       "      <th>1</th>\n",
       "      <td>0</td>\n",
       "      <td>'C1093826151'</td>\n",
       "      <td>'4'</td>\n",
       "      <td>'M'</td>\n",
       "      <td>'28007'</td>\n",
       "      <td>'M348934600'</td>\n",
       "      <td>'28007'</td>\n",
       "      <td>'es_transportation'</td>\n",
       "      <td>4.55</td>\n",
       "      <td>0</td>\n",
       "    </tr>\n",
       "    <tr>\n",
       "      <th>2</th>\n",
       "      <td>0</td>\n",
       "      <td>'C352968107'</td>\n",
       "      <td>'2'</td>\n",
       "      <td>'M'</td>\n",
       "      <td>'28007'</td>\n",
       "      <td>'M348934600'</td>\n",
       "      <td>'28007'</td>\n",
       "      <td>'es_transportation'</td>\n",
       "      <td>39.68</td>\n",
       "      <td>0</td>\n",
       "    </tr>\n",
       "    <tr>\n",
       "      <th>3</th>\n",
       "      <td>0</td>\n",
       "      <td>'C2054744914'</td>\n",
       "      <td>'4'</td>\n",
       "      <td>'F'</td>\n",
       "      <td>'28007'</td>\n",
       "      <td>'M1823072687'</td>\n",
       "      <td>'28007'</td>\n",
       "      <td>'es_transportation'</td>\n",
       "      <td>26.89</td>\n",
       "      <td>0</td>\n",
       "    </tr>\n",
       "    <tr>\n",
       "      <th>4</th>\n",
       "      <td>0</td>\n",
       "      <td>'C1760612790'</td>\n",
       "      <td>'3'</td>\n",
       "      <td>'M'</td>\n",
       "      <td>'28007'</td>\n",
       "      <td>'M348934600'</td>\n",
       "      <td>'28007'</td>\n",
       "      <td>'es_transportation'</td>\n",
       "      <td>17.25</td>\n",
       "      <td>0</td>\n",
       "    </tr>\n",
       "    <tr>\n",
       "      <th>5</th>\n",
       "      <td>0</td>\n",
       "      <td>'C757503768'</td>\n",
       "      <td>'5'</td>\n",
       "      <td>'M'</td>\n",
       "      <td>'28007'</td>\n",
       "      <td>'M348934600'</td>\n",
       "      <td>'28007'</td>\n",
       "      <td>'es_transportation'</td>\n",
       "      <td>35.72</td>\n",
       "      <td>0</td>\n",
       "    </tr>\n",
       "  </tbody>\n",
       "</table>\n",
       "</div>"
      ],
      "text/plain": [
       "  step       customer  age gender zipcodeOri       merchant zipMerchant  \\\n",
       "1    0  'C1093826151'  '4'    'M'    '28007'   'M348934600'     '28007'   \n",
       "2    0   'C352968107'  '2'    'M'    '28007'   'M348934600'     '28007'   \n",
       "3    0  'C2054744914'  '4'    'F'    '28007'  'M1823072687'     '28007'   \n",
       "4    0  'C1760612790'  '3'    'M'    '28007'   'M348934600'     '28007'   \n",
       "5    0   'C757503768'  '5'    'M'    '28007'   'M348934600'     '28007'   \n",
       "\n",
       "              category amount fraud  \n",
       "1  'es_transportation'   4.55     0  \n",
       "2  'es_transportation'  39.68     0  \n",
       "3  'es_transportation'  26.89     0  \n",
       "4  'es_transportation'  17.25     0  \n",
       "5  'es_transportation'  35.72     0  "
      ]
     },
     "execution_count": 1,
     "metadata": {},
     "output_type": "execute_result"
    }
   ],
   "source": [
    "import matplotlib.pyplot as plt\n",
    "import seaborn as sns\n",
    "import pandas as pd\n",
    "\n",
    "data = pd.read_csv('bs140513_032310.csv', names= ['step','customer','age','gender','zipcodeOri','merchant','zipMerchant','category','amount','fraud'])\n",
    "data = data.iloc[1:]\n",
    "data.head(10)"
   ]
  },
  {
   "cell_type": "code",
   "execution_count": 2,
   "metadata": {},
   "outputs": [
    {
     "data": {
      "text/plain": [
       "(594643, 10)"
      ]
     },
     "execution_count": 2,
     "metadata": {},
     "output_type": "execute_result"
    }
   ],
   "source": [
    "data.shape"
   ]
  },
  {
   "cell_type": "markdown",
   "metadata": {},
   "source": [
    "### The Dataset has 594,643 Rows and 10 Columns."
   ]
  },
  {
   "cell_type": "code",
   "execution_count": 3,
   "metadata": {},
   "outputs": [
    {
     "data": {
      "text/plain": [
       "step           object\n",
       "customer       object\n",
       "age            object\n",
       "gender         object\n",
       "zipcodeOri     object\n",
       "merchant       object\n",
       "zipMerchant    object\n",
       "category       object\n",
       "amount         object\n",
       "fraud          object\n",
       "dtype: object"
      ]
     },
     "execution_count": 3,
     "metadata": {},
     "output_type": "execute_result"
    }
   ],
   "source": [
    "data.dtypes"
   ]
  },
  {
   "cell_type": "markdown",
   "metadata": {},
   "source": [
    "### During the exploration of the data I notice that some values are marked with 'U'.\n",
    "\n",
    "Let's understand the columns better"
   ]
  },
  {
   "cell_type": "markdown",
   "metadata": {},
   "source": [
    "    step: simulation days(6 months).\n",
    "    \n",
    "    customer: customer id.\n",
    "    \n",
    "    age: categorized age.\n",
    "\n",
    "            0: less than 18,\n",
    "            1: 19-25,\n",
    "            2: 26-35,\n",
    "            3: 36-45,\n",
    "            4: 46-55,\n",
    "            5: 56-65,\n",
    "            6: more than 65\n",
    "            U: Unknown (only for transactions by gender Enterprise)\n",
    "\n",
    "    gender: customer's gender.\n",
    "\n",
    "            E: Enterprise,\n",
    "            F: Woman,\n",
    "            M: Man,\n",
    "            U: Unknown\n",
    "\n",
    "    zipcodeOri:  zip code origin.\n",
    "\n",
    "    merchant: merchant id.\n",
    "\n",
    "    zipMerchant: merchant zipcode.\n",
    "    \n",
    "    category: purchase category.\n",
    "\n",
    "    amount:  purchase amount.\n",
    "    \n",
    "    fraud: boolean fraudulent value (1)=> yes or (0)=> no.\n"
   ]
  },
  {
   "cell_type": "markdown",
   "metadata": {},
   "source": [
    "## Basic Analysis:\n",
    "\n",
    "###  Perform a check for null values:"
   ]
  },
  {
   "cell_type": "code",
   "execution_count": 4,
   "metadata": {},
   "outputs": [
    {
     "data": {
      "text/plain": [
       "False"
      ]
     },
     "execution_count": 4,
     "metadata": {},
     "output_type": "execute_result"
    }
   ],
   "source": [
    "data.isnull().values.any()"
   ]
  },
  {
   "cell_type": "markdown",
   "metadata": {},
   "source": [
    "> logical since it is a synthetic dataset.\n",
    "### Attempt Descriptive statistics"
   ]
  },
  {
   "cell_type": "code",
   "execution_count": 5,
   "metadata": {
    "scrolled": true
   },
   "outputs": [
    {
     "data": {
      "text/html": [
       "<div>\n",
       "<style scoped>\n",
       "    .dataframe tbody tr th:only-of-type {\n",
       "        vertical-align: middle;\n",
       "    }\n",
       "\n",
       "    .dataframe tbody tr th {\n",
       "        vertical-align: top;\n",
       "    }\n",
       "\n",
       "    .dataframe thead th {\n",
       "        text-align: right;\n",
       "    }\n",
       "</style>\n",
       "<table border=\"1\" class=\"dataframe\">\n",
       "  <thead>\n",
       "    <tr style=\"text-align: right;\">\n",
       "      <th></th>\n",
       "      <th>step</th>\n",
       "      <th>customer</th>\n",
       "      <th>age</th>\n",
       "      <th>gender</th>\n",
       "      <th>zipcodeOri</th>\n",
       "      <th>merchant</th>\n",
       "      <th>zipMerchant</th>\n",
       "      <th>category</th>\n",
       "      <th>amount</th>\n",
       "      <th>fraud</th>\n",
       "    </tr>\n",
       "  </thead>\n",
       "  <tbody>\n",
       "    <tr>\n",
       "      <th>count</th>\n",
       "      <td>594643</td>\n",
       "      <td>594643</td>\n",
       "      <td>594643</td>\n",
       "      <td>594643</td>\n",
       "      <td>594643</td>\n",
       "      <td>594643</td>\n",
       "      <td>594643</td>\n",
       "      <td>594643</td>\n",
       "      <td>594643.00</td>\n",
       "      <td>594643</td>\n",
       "    </tr>\n",
       "    <tr>\n",
       "      <th>unique</th>\n",
       "      <td>181</td>\n",
       "      <td>4112</td>\n",
       "      <td>8</td>\n",
       "      <td>4</td>\n",
       "      <td>1</td>\n",
       "      <td>50</td>\n",
       "      <td>1</td>\n",
       "      <td>15</td>\n",
       "      <td>33154.00</td>\n",
       "      <td>4</td>\n",
       "    </tr>\n",
       "    <tr>\n",
       "      <th>top</th>\n",
       "      <td>175</td>\n",
       "      <td>'C1978250683'</td>\n",
       "      <td>'2'</td>\n",
       "      <td>'F'</td>\n",
       "      <td>'28007'</td>\n",
       "      <td>'M1823072687'</td>\n",
       "      <td>'28007'</td>\n",
       "      <td>'es_transportation'</td>\n",
       "      <td>26.67</td>\n",
       "      <td>0</td>\n",
       "    </tr>\n",
       "    <tr>\n",
       "      <th>freq</th>\n",
       "      <td>3774</td>\n",
       "      <td>265</td>\n",
       "      <td>187310</td>\n",
       "      <td>324565</td>\n",
       "      <td>594643</td>\n",
       "      <td>299693</td>\n",
       "      <td>594643</td>\n",
       "      <td>505119</td>\n",
       "      <td>135.00</td>\n",
       "      <td>522898</td>\n",
       "    </tr>\n",
       "  </tbody>\n",
       "</table>\n",
       "</div>"
      ],
      "text/plain": [
       "          step       customer     age  gender zipcodeOri       merchant  \\\n",
       "count   594643         594643  594643  594643     594643         594643   \n",
       "unique     181           4112       8       4          1             50   \n",
       "top        175  'C1978250683'     '2'     'F'    '28007'  'M1823072687'   \n",
       "freq      3774            265  187310  324565     594643         299693   \n",
       "\n",
       "       zipMerchant             category     amount   fraud  \n",
       "count       594643               594643  594643.00  594643  \n",
       "unique           1                   15   33154.00       4  \n",
       "top        '28007'  'es_transportation'      26.67       0  \n",
       "freq        594643               505119     135.00  522898  "
      ]
     },
     "execution_count": 5,
     "metadata": {},
     "output_type": "execute_result"
    }
   ],
   "source": [
    "data.describe()"
   ]
  },
  {
   "cell_type": "markdown",
   "metadata": {},
   "source": [
    "### Notice:\n",
    "#### (1) \"zipcodeOri\" and \"zipMerchant\" columns provide one unique value for all rows.\n",
    "> Hence they are not necesssary moving forward.\n",
    "#### (2) Value are within apostrophes\n",
    "> Let's strip them from the values"
   ]
  },
  {
   "cell_type": "code",
   "execution_count": 6,
   "metadata": {},
   "outputs": [
    {
     "data": {
      "text/html": [
       "<div>\n",
       "<style scoped>\n",
       "    .dataframe tbody tr th:only-of-type {\n",
       "        vertical-align: middle;\n",
       "    }\n",
       "\n",
       "    .dataframe tbody tr th {\n",
       "        vertical-align: top;\n",
       "    }\n",
       "\n",
       "    .dataframe thead th {\n",
       "        text-align: right;\n",
       "    }\n",
       "</style>\n",
       "<table border=\"1\" class=\"dataframe\">\n",
       "  <thead>\n",
       "    <tr style=\"text-align: right;\">\n",
       "      <th></th>\n",
       "      <th>step</th>\n",
       "      <th>customer</th>\n",
       "      <th>age</th>\n",
       "      <th>gender</th>\n",
       "      <th>merchant</th>\n",
       "      <th>category</th>\n",
       "      <th>amount</th>\n",
       "      <th>fraud</th>\n",
       "    </tr>\n",
       "  </thead>\n",
       "  <tbody>\n",
       "    <tr>\n",
       "      <th>1</th>\n",
       "      <td>0</td>\n",
       "      <td>C1093826151</td>\n",
       "      <td>4</td>\n",
       "      <td>M</td>\n",
       "      <td>M348934600</td>\n",
       "      <td>es_transportation</td>\n",
       "      <td>4.55</td>\n",
       "      <td>0</td>\n",
       "    </tr>\n",
       "    <tr>\n",
       "      <th>2</th>\n",
       "      <td>0</td>\n",
       "      <td>C352968107</td>\n",
       "      <td>2</td>\n",
       "      <td>M</td>\n",
       "      <td>M348934600</td>\n",
       "      <td>es_transportation</td>\n",
       "      <td>39.68</td>\n",
       "      <td>0</td>\n",
       "    </tr>\n",
       "    <tr>\n",
       "      <th>3</th>\n",
       "      <td>0</td>\n",
       "      <td>C2054744914</td>\n",
       "      <td>4</td>\n",
       "      <td>F</td>\n",
       "      <td>M1823072687</td>\n",
       "      <td>es_transportation</td>\n",
       "      <td>26.89</td>\n",
       "      <td>0</td>\n",
       "    </tr>\n",
       "    <tr>\n",
       "      <th>4</th>\n",
       "      <td>0</td>\n",
       "      <td>C1760612790</td>\n",
       "      <td>3</td>\n",
       "      <td>M</td>\n",
       "      <td>M348934600</td>\n",
       "      <td>es_transportation</td>\n",
       "      <td>17.25</td>\n",
       "      <td>0</td>\n",
       "    </tr>\n",
       "    <tr>\n",
       "      <th>5</th>\n",
       "      <td>0</td>\n",
       "      <td>C757503768</td>\n",
       "      <td>5</td>\n",
       "      <td>M</td>\n",
       "      <td>M348934600</td>\n",
       "      <td>es_transportation</td>\n",
       "      <td>35.72</td>\n",
       "      <td>0</td>\n",
       "    </tr>\n",
       "  </tbody>\n",
       "</table>\n",
       "</div>"
      ],
      "text/plain": [
       "  step     customer age gender     merchant           category  amount fraud\n",
       "1    0  C1093826151   4      M   M348934600  es_transportation    4.55     0\n",
       "2    0   C352968107   2      M   M348934600  es_transportation   39.68     0\n",
       "3    0  C2054744914   4      F  M1823072687  es_transportation   26.89     0\n",
       "4    0  C1760612790   3      M   M348934600  es_transportation   17.25     0\n",
       "5    0   C757503768   5      M   M348934600  es_transportation   35.72     0"
      ]
     },
     "execution_count": 6,
     "metadata": {},
     "output_type": "execute_result"
    }
   ],
   "source": [
    "data = data.drop([\"zipcodeOri\"], axis = 1)\n",
    "data = data.drop([\"zipMerchant\"], axis = 1)\n",
    "\n",
    "data[\"customer\"] = data[\"customer\"].str.replace('[^\\w\\s]','')\n",
    "data[\"age\"] = data[\"age\"].str.replace('[^\\w\\s]','')\n",
    "data[\"gender\"] = data[\"gender\"].str.replace('[^\\w\\s]','')\n",
    "data[\"merchant\"] = data[\"merchant\"].str.replace('[^\\w\\s]','')\n",
    "data[\"category\"] = data[\"category\"].str.replace('[^\\w\\s]','')\n",
    "\n",
    "data[\"step\"] = data[\"step\"].astype(\"category\")\n",
    "data[\"customer\"] = data[\"customer\"].astype(\"category\")\n",
    "data[\"age\"] = data[\"age\"].astype(\"category\")\n",
    "data[\"gender\"] = data[\"gender\"].astype(\"category\")\n",
    "data[\"merchant\"] = data[\"merchant\"].astype(\"category\")\n",
    "data[\"category\"] = data[\"category\"].astype(\"category\")\n",
    "data[\"amount\"] = data[\"amount\"].astype(float)\n",
    "data[\"fraud\"] = data[\"fraud\"].astype(\"category\")\n",
    "\n",
    "data.head()"
   ]
  },
  {
   "cell_type": "markdown",
   "metadata": {},
   "source": [
    "### Let's check the \"fraud\" categories "
   ]
  },
  {
   "cell_type": "code",
   "execution_count": 7,
   "metadata": {},
   "outputs": [
    {
     "data": {
      "text/plain": [
       "[0, 1, 0, 1]\n",
       "Categories (4, object): [0, 1, 0, 1]"
      ]
     },
     "execution_count": 7,
     "metadata": {},
     "output_type": "execute_result"
    }
   ],
   "source": [
    "pd.unique(data['fraud'])"
   ]
  },
  {
   "cell_type": "code",
   "execution_count": 8,
   "metadata": {},
   "outputs": [
    {
     "data": {
      "text/plain": [
       "array([0, 1])"
      ]
     },
     "execution_count": 8,
     "metadata": {},
     "output_type": "execute_result"
    }
   ],
   "source": [
    "data[\"fraud\"]= pd.factorize(data.fraud)[0] % 2\n",
    "pd.unique(data['fraud'])"
   ]
  },
  {
   "cell_type": "markdown",
   "metadata": {},
   "source": [
    "### Let's visualize the distribution of \"fraud\" in the data"
   ]
  },
  {
   "cell_type": "code",
   "execution_count": 9,
   "metadata": {},
   "outputs": [
    {
     "data": {
      "image/png": "[encoded data removed]",
      "text/plain": [
       "<Figure size 432x288 with 1 Axes>"
      ]
     },
     "metadata": {
      "needs_background": "light"
     },
     "output_type": "display_data"
    },
    {
     "name": "stdout",
     "output_type": "stream",
     "text": [
      "Legal transactions:  587443\n",
      "Fraudulent transactions:  7200\n",
      "\n",
      "Percentage of Fraud is: 1.2108105199254007\n"
     ]
    }
   ],
   "source": [
    "fraud = data.loc[data.fraud == 1] \n",
    "legal = data.loc[data.fraud == 0]\n",
    "\n",
    "sns.countplot(x=\"fraud\",data=data, order = data[\"fraud\"].value_counts().index)\n",
    "plt.title(\"Nr° Fraudulent Payments\")\n",
    "plt.show()\n",
    "\n",
    "print(\"Legal transactions: \", legal.fraud.count())\n",
    "print(\"Fraudulent transactions: \", fraud.fraud.count())\n",
    "\n",
    "print(\"\\nPercentage of Fraud is:\",100*fraud.fraud.count()/data.fraud.count())"
   ]
  },
  {
   "cell_type": "markdown",
   "metadata": {},
   "source": [
    "### Let's measure the symmetry of the distribution"
   ]
  },
  {
   "cell_type": "code",
   "execution_count": 10,
   "metadata": {},
   "outputs": [
    {
     "data": {
      "text/plain": [
       "step      -0.119428\n",
       "amount    32.365838\n",
       "fraud      8.921993\n",
       "dtype: float64"
      ]
     },
     "execution_count": 10,
     "metadata": {},
     "output_type": "execute_result"
    }
   ],
   "source": [
    "data.skew()"
   ]
  },
  {
   "cell_type": "markdown",
   "metadata": {},
   "source": [
    "####  The data are highly skewed\n",
    "\n",
    ">This could lead a possible ML algo to ignore the fraudulant class for example. Such probelmatic imbalance must be resolved. "
   ]
  },
  {
   "cell_type": "markdown",
   "metadata": {},
   "source": [
    "## Let's analyze more before making a decision.\n",
    "### First: Let's explore the Skewness of \"amount\" data\n",
    "A Kernel density estimation plot is useful to visualize the “shape” of the \"amount\" data"
   ]
  },
  {
   "cell_type": "code",
   "execution_count": 11,
   "metadata": {
    "scrolled": true
   },
   "outputs": [
    {
     "data": {
      "text/plain": [
       "[(0.0, 0.006), (0.0, 1000.0)]"
      ]
     },
     "execution_count": 11,
     "metadata": {},
     "output_type": "execute_result"
    },
    {
     "data": {
      "image/png": "[encoded data removed]",
      "text/plain": [
       "<Figure size 432x288 with 1 Axes>"
      ]
     },
     "metadata": {},
     "output_type": "display_data"
    }
   ],
   "source": [
    "sns.set_style('whitegrid')\n",
    "plt.title(\"Amount: kernel density estimation\")\n",
    "plt.xlabel(\"Amount\")\n",
    "plt.ylabel(\"Density\")\n",
    "sns.kdeplot(data[\"amount\"]).set(xlim=(0,1000),ylim=(0,.006)) #bw parameter stands for bandwidth. i.e. how smooth you want the densityPlt"
   ]
  },
  {
   "cell_type": "markdown",
   "metadata": {},
   "source": [
    "#### This demonstrates a positive skeweness ( Most payment amounts are under 100)\n",
    "> One must remember to normalize this as to avoid incorrect future estimates."
   ]
  },
  {
   "cell_type": "code",
   "execution_count": 12,
   "metadata": {},
   "outputs": [
    {
     "data": {
      "image/png": "[encoded data removed]",
      "text/plain": [
       "<Figure size 432x288 with 1 Axes>"
      ]
     },
     "metadata": {},
     "output_type": "display_data"
    }
   ],
   "source": [
    "plt.figure(1)\n",
    "plt.plot(data[\"amount\"], data[\"fraud\"], 'ro', markersize=2)\n",
    "plt.show()"
   ]
  },
  {
   "cell_type": "markdown",
   "metadata": {},
   "source": [
    "#### Observation:\n",
    "> \"Fraud\" is more and moren likely on high transaction amounts \n",
    "\n",
    "> It could be useful to segregate the \"amount\" dimension into intervals"
   ]
  },
  {
   "cell_type": "code",
   "execution_count": 13,
   "metadata": {},
   "outputs": [
    {
     "data": {
      "image/png": "[encoded data removed]",
      "text/plain": [
       "<Figure size 432x288 with 2 Axes>"
      ]
     },
     "metadata": {},
     "output_type": "display_data"
    }
   ],
   "source": [
    "import numpy as np\n",
    "corr = data.corr()\n",
    "mask = np.zeros_like(corr, dtype=np.bool)\n",
    "mask[np.triu_indices_from(mask)]= True\n",
    "f, ax = plt.subplots()\n",
    "heatmap = sns.heatmap(corr, mask = mask,square = True, linewidths = 1,\n",
    "                      cmap = 'coolwarm', cbar_kws = {'shrink': .6,'ticks' : [-1, -.5, 0, 0.5, 1]},\n",
    "                      vmin = -1, vmax = 1, annot = True, annot_kws = {'size': 13})\n",
    "ax.set_xticklabels(corr.columns)\n",
    "ax.set_yticklabels(corr.columns, rotation = 0)\n",
    "sns.set_style({'xtick.bottom': True}, {'ytick.left': True})"
   ]
  },
  {
   "cell_type": "markdown",
   "metadata": {},
   "source": [
    "#### Observation:\n",
    " >  \"Amount\" and \"Fraud\" demonstrate a low correlation"
   ]
  },
  {
   "cell_type": "markdown",
   "metadata": {},
   "source": [
    "### Second: Let's explore the rest of the columns"
   ]
  },
  {
   "cell_type": "code",
   "execution_count": 14,
   "metadata": {},
   "outputs": [
    {
     "name": "stdout",
     "output_type": "stream",
     "text": [
      "\n",
      "\tNumber of transactions per category\n",
      "\n",
      "es_transportation        505119\n",
      "es_food                   26254\n",
      "es_health                 16133\n",
      "es_wellnessandbeauty      15086\n",
      "es_fashion                 6454\n",
      "es_barsandrestaurants      6373\n",
      "es_hyper                   6098\n",
      "es_sportsandtoys           4002\n",
      "es_tech                    2370\n",
      "es_home                    1986\n",
      "es_hotelservices           1744\n",
      "es_otherservices            912\n",
      "es_contents                 885\n",
      "es_travel                   728\n",
      "es_leisure                  499\n",
      "Name: category, dtype: int64\n",
      "\n",
      "\tMean values per category\n",
      "\n",
      "                            amount     fraud\n",
      "category                                    \n",
      "es_contents              44.547571  0.000000\n",
      "es_food                  37.070405  0.000000\n",
      "es_transportation        26.958187  0.000000\n",
      "es_fashion               65.666642  0.017973\n",
      "es_barsandrestaurants    43.461014  0.018829\n",
      "es_hyper                 45.970421  0.045917\n",
      "es_wellnessandbeauty     65.511221  0.047594\n",
      "es_tech                 120.947937  0.066667\n",
      "es_health               135.621367  0.105126\n",
      "es_home                 165.670846  0.152064\n",
      "es_otherservices        135.881524  0.250000\n",
      "es_hotelservices        205.614249  0.314220\n",
      "es_sportsandtoys        215.715280  0.495252\n",
      "es_travel              2250.409190  0.793956\n",
      "es_leisure              288.911303  0.949900\n"
     ]
    },
    {
     "name": "stderr",
     "output_type": "stream",
     "text": [
      "<ipython-input-14-3224fcabdf6e>:4: FutureWarning: Indexing with multiple keys (implicitly converted to a tuple of keys) will be deprecated, use a list instead.\n",
      "  print(data.groupby(\"category\")[\"amount\",\"fraud\"].mean().sort_values(by='fraud'))\n"
     ]
    }
   ],
   "source": [
    "print('\\n\\tNumber of transactions per category\\n')\n",
    "print(data['category'].value_counts())\n",
    "print('\\n\\tMean values per category\\n')\n",
    "print(data.groupby(\"category\")[\"amount\",\"fraud\"].mean().sort_values(by='fraud'))"
   ]
  },
  {
   "cell_type": "markdown",
   "metadata": {},
   "source": [
    "#### Observation: \n",
    ">\"es_transportation\" covers the crushing majority of transactions.\n",
    "\n",
    ">\"es_leisure\" and \"es_travel\" cover the least number of transactions\n",
    "\n",
    "\n",
    "   >\"es_leisure\" and \"es_travel\" are the categories most likely to have a fraudulent transaction (also highest amounts)\n",
    "   \n",
    "   > \"es_transportation\" \"es_contents\" and \"es_food\" have 0 fraud percentage.\n"
   ]
  },
  {
   "cell_type": "markdown",
   "metadata": {},
   "source": [
    "### How does \"age\" relate to \"amount\" and \"fraud\" ?"
   ]
  },
  {
   "cell_type": "code",
   "execution_count": 15,
   "metadata": {},
   "outputs": [
    {
     "name": "stdout",
     "output_type": "stream",
     "text": [
      "\n",
      "\tAmount spent by age\n",
      "\n"
     ]
    },
    {
     "data": {
      "image/png": "[encoded data removed]",
      "text/plain": [
       "<Figure size 432x288 with 1 Axes>"
      ]
     },
     "metadata": {},
     "output_type": "display_data"
    },
    {
     "name": "stdout",
     "output_type": "stream",
     "text": [
      "2    187310\n",
      "3    147131\n",
      "4    109025\n",
      "5     62642\n",
      "1     58131\n",
      "6     26774\n",
      "0      2452\n",
      "U      1178\n",
      "Name: age, dtype: int64\n",
      "\n",
      "Percentage of fraud by age group\n"
     ]
    },
    {
     "data": {
      "text/html": [
       "<div>\n",
       "<style scoped>\n",
       "    .dataframe tbody tr th:only-of-type {\n",
       "        vertical-align: middle;\n",
       "    }\n",
       "\n",
       "    .dataframe tbody tr th {\n",
       "        vertical-align: top;\n",
       "    }\n",
       "\n",
       "    .dataframe thead th {\n",
       "        text-align: right;\n",
       "    }\n",
       "</style>\n",
       "<table border=\"1\" class=\"dataframe\">\n",
       "  <thead>\n",
       "    <tr style=\"text-align: right;\">\n",
       "      <th></th>\n",
       "      <th>age</th>\n",
       "      <th>fraud</th>\n",
       "    </tr>\n",
       "  </thead>\n",
       "  <tbody>\n",
       "    <tr>\n",
       "      <th>7</th>\n",
       "      <td>U</td>\n",
       "      <td>0.594228</td>\n",
       "    </tr>\n",
       "    <tr>\n",
       "      <th>6</th>\n",
       "      <td>6</td>\n",
       "      <td>0.974826</td>\n",
       "    </tr>\n",
       "    <tr>\n",
       "      <th>5</th>\n",
       "      <td>5</td>\n",
       "      <td>1.095112</td>\n",
       "    </tr>\n",
       "    <tr>\n",
       "      <th>1</th>\n",
       "      <td>1</td>\n",
       "      <td>1.185254</td>\n",
       "    </tr>\n",
       "    <tr>\n",
       "      <th>3</th>\n",
       "      <td>3</td>\n",
       "      <td>1.192815</td>\n",
       "    </tr>\n",
       "    <tr>\n",
       "      <th>2</th>\n",
       "      <td>2</td>\n",
       "      <td>1.251401</td>\n",
       "    </tr>\n",
       "    <tr>\n",
       "      <th>4</th>\n",
       "      <td>4</td>\n",
       "      <td>1.293281</td>\n",
       "    </tr>\n",
       "    <tr>\n",
       "      <th>0</th>\n",
       "      <td>0</td>\n",
       "      <td>1.957586</td>\n",
       "    </tr>\n",
       "  </tbody>\n",
       "</table>\n",
       "</div>"
      ],
      "text/plain": [
       "  age     fraud\n",
       "7   U  0.594228\n",
       "6   6  0.974826\n",
       "5   5  1.095112\n",
       "1   1  1.185254\n",
       "3   3  1.192815\n",
       "2   2  1.251401\n",
       "4   4  1.293281\n",
       "0   0  1.957586"
      ]
     },
     "execution_count": 15,
     "metadata": {},
     "output_type": "execute_result"
    }
   ],
   "source": [
    "print(\"\\n\\tAmount spent by age\\n\")\n",
    "plt.figure(1)\n",
    "plt.plot(data[\"age\"], data[\"amount\"], 'ro', markersize=2)\n",
    "plt.show()\n",
    "print(data['age'].value_counts())\n",
    "print(\"\\nPercentage of fraud by age group\")\n",
    "(data.groupby('age')['fraud'].mean()*100).reset_index().sort_values(by='fraud')"
   ]
  },
  {
   "cell_type": "markdown",
   "metadata": {},
   "source": [
    "#### Observation\n",
    "> Most transactions are done by age group \"2\"\n",
    "\n",
    "> age group \"3\" executes more expensive transactions\n",
    "\n",
    "> Highest percentage of fraud occurs more in ages equal and below 18 => category 0"
   ]
  },
  {
   "cell_type": "markdown",
   "metadata": {},
   "source": [
    "### How does \"gender\" relate to \"fraud\"?"
   ]
  },
  {
   "cell_type": "code",
   "execution_count": 16,
   "metadata": {},
   "outputs": [
    {
     "name": "stdout",
     "output_type": "stream",
     "text": [
      "Number of transactions by gender\n",
      "\n",
      "F    324565\n",
      "M    268385\n",
      "E      1178\n",
      "U       515\n",
      "Name: gender, dtype: int64\n"
     ]
    },
    {
     "data": {
      "image/png": "[encoded data removed]",
      "text/plain": [
       "<Figure size 432x288 with 1 Axes>"
      ]
     },
     "metadata": {},
     "output_type": "display_data"
    },
    {
     "name": "stdout",
     "output_type": "stream",
     "text": [
      "\n",
      "Percentage of fraud by gender\n",
      "gender\n",
      "E    0.594228\n",
      "F    1.465962\n",
      "M    0.907279\n",
      "U    0.000000\n",
      "Name: fraud, dtype: float64\n"
     ]
    }
   ],
   "source": [
    "print(\"Number of transactions by gender\\n\")\n",
    "print(data['gender'].value_counts())\n",
    "plt.plot(data[\"gender\"], data[\"amount\"], 'ro', markersize=2)\n",
    "plt.show()\n",
    "print(\"\\nPercentage of fraud by gender\")\n",
    "print(data.groupby('gender')['fraud'].mean()*100)"
   ]
  },
  {
   "cell_type": "markdown",
   "metadata": {},
   "source": [
    "#### Observation:\n",
    "> Most fraudulent transactions are done to Females that spend more on average"
   ]
  },
  {
   "cell_type": "markdown",
   "metadata": {},
   "source": [
    " ### How does \"Merchants\" relate to \"Fraud\" transactions?"
   ]
  },
  {
   "cell_type": "code",
   "execution_count": 17,
   "metadata": {
    "scrolled": false
   },
   "outputs": [
    {
     "data": {
      "image/png": "[encoded data removed]",
      "text/plain": [
       "<Figure size 432x288 with 1 Axes>"
      ]
     },
     "metadata": {},
     "output_type": "display_data"
    },
    {
     "name": "stdout",
     "output_type": "stream",
     "text": [
      "                  amount     fraud\n",
      "merchant                          \n",
      "M1053599405   103.072322  0.000000\n",
      "M85975013      37.070405  0.000000\n",
      "M677738360     44.479832  0.000000\n",
      "M45060432     103.027016  0.000000\n",
      "M349281107     61.932704  0.000000\n",
      "M348934600     26.965542  0.000000\n",
      "M97925176      56.637796  0.000000\n",
      "M1913465890   104.441660  0.000000\n",
      "M1872033263   114.769143  0.000000\n",
      "M1842530320    99.586671  0.000000\n",
      "M1823072687    26.953146  0.000000\n",
      "M1788569036    94.689779  0.000000\n",
      "M1726401631   855.920000  0.000000\n",
      "M1946091778    57.067848  0.000000\n",
      "M1313686961    44.593586  0.000000\n",
      "M1352454843   109.981324  0.000000\n",
      "M117188757    105.102381  0.000000\n",
      "M1600850729    63.088700  0.000000\n",
      "M1400236507   116.117758  0.000000\n",
      "M1416436880    91.267818  0.000000\n",
      "M692898500    110.711333  0.017778\n",
      "M151143676     43.461014  0.018829\n",
      "M78078399      63.075243  0.027363\n",
      "M209847108     62.391623  0.027792\n",
      "M855959430     45.970421  0.045917\n",
      "M50039827     120.503755  0.050218\n",
      "M1535107174    74.734347  0.093148\n",
      "M348875670    120.740467  0.093458\n",
      "M1649169323   123.378210  0.105712\n",
      "M840466850    137.082273  0.112938\n",
      "M547558035     84.130285  0.122234\n",
      "M1748431652    76.526022  0.131387\n",
      "M933210764    125.573043  0.173913\n",
      "M1198415165    94.622911  0.226582\n",
      "M1888755466   135.881524  0.250000\n",
      "M923029380    205.740712  0.315789\n",
      "M495352832   1618.723043  0.347826\n",
      "M1741626453   173.341742  0.371212\n",
      "M480139044    244.694475  0.465792\n",
      "M2122776122   322.579824  0.586510\n",
      "M17379832     250.377270  0.631206\n",
      "M2011752106   323.581270  0.680328\n",
      "M2080407379  2299.512292  0.750000\n",
      "M857378720    356.235000  0.754098\n",
      "M1353266412   377.828462  0.820513\n",
      "M980657600    299.963646  0.832109\n",
      "M732195782   2325.101398  0.851974\n",
      "M1873032707   376.237320  0.864000\n",
      "M3697346      288.442597  0.941558\n",
      "M1294758098   289.667120  0.963351\n"
     ]
    },
    {
     "name": "stderr",
     "output_type": "stream",
     "text": [
      "<ipython-input-17-0ffde4399469>:4: FutureWarning: Indexing with multiple keys (implicitly converted to a tuple of keys) will be deprecated, use a list instead.\n",
      "  print(data.groupby(\"merchant\")[\"amount\",\"fraud\"].mean().sort_values(by='fraud'))\n"
     ]
    }
   ],
   "source": [
    "sns.countplot(x=\"merchant\",data=data, order = data[\"merchant\"].value_counts().index)\n",
    "plt.title(\"Nr° of merchant transactions\")\n",
    "plt.show()\n",
    "print(data.groupby(\"merchant\")[\"amount\",\"fraud\"].mean().sort_values(by='fraud'))"
   ]
  },
  {
   "cell_type": "markdown",
   "metadata": {},
   "source": [
    "#### Observation:\n",
    "> \"M1823072687\" and \"M348934600\" have the highest number of transactions > 20K.\n",
    "\n",
    "> \"M1823072687\" and \"M348934600\" have 0 fraudulent transactions as many others.\n",
    "\n",
    "> Certain merchants (11 or so) have a HIGH percentage of fraudulent transactions."
   ]
  },
  {
   "cell_type": "markdown",
   "metadata": {},
   "source": [
    " ### How does \"Customer\" relate to \"Fraud\" transactions?"
   ]
  },
  {
   "cell_type": "code",
   "execution_count": 18,
   "metadata": {},
   "outputs": [
    {
     "name": "stdout",
     "output_type": "stream",
     "text": [
      "Number of transactions by customer\n",
      "\n",
      "C1978250683    265\n",
      "C1275518867    252\n",
      "C806399525     237\n",
      "C515668508     205\n",
      "C1338396147    195\n",
      "              ... \n",
      "C1156745710      6\n",
      "C1345586046      6\n",
      "C1809646275      5\n",
      "C1743702978      5\n",
      "C1404665203      5\n",
      "Name: customer, Length: 4112, dtype: int64\n",
      "\n",
      ">>>Percentage of fraud by customer\n",
      "\n"
     ]
    },
    {
     "name": "stderr",
     "output_type": "stream",
     "text": [
      "<ipython-input-18-9ea246220a29>:5: FutureWarning: Indexing with multiple keys (implicitly converted to a tuple of keys) will be deprecated, use a list instead.\n",
      "  data.groupby(\"customer\")[\"amount\",\"fraud\"].mean().sort_values(by='fraud')\n"
     ]
    },
    {
     "data": {
      "text/html": [
       "<div>\n",
       "<style scoped>\n",
       "    .dataframe tbody tr th:only-of-type {\n",
       "        vertical-align: middle;\n",
       "    }\n",
       "\n",
       "    .dataframe tbody tr th {\n",
       "        vertical-align: top;\n",
       "    }\n",
       "\n",
       "    .dataframe thead th {\n",
       "        text-align: right;\n",
       "    }\n",
       "</style>\n",
       "<table border=\"1\" class=\"dataframe\">\n",
       "  <thead>\n",
       "    <tr style=\"text-align: right;\">\n",
       "      <th></th>\n",
       "      <th>amount</th>\n",
       "      <th>fraud</th>\n",
       "    </tr>\n",
       "    <tr>\n",
       "      <th>customer</th>\n",
       "      <th></th>\n",
       "      <th></th>\n",
       "    </tr>\n",
       "  </thead>\n",
       "  <tbody>\n",
       "    <tr>\n",
       "      <th>C1948728559</th>\n",
       "      <td>30.131520</td>\n",
       "      <td>0.000000</td>\n",
       "    </tr>\n",
       "    <tr>\n",
       "      <th>C1862556322</th>\n",
       "      <td>34.696012</td>\n",
       "      <td>0.000000</td>\n",
       "    </tr>\n",
       "    <tr>\n",
       "      <th>C1864289868</th>\n",
       "      <td>30.017861</td>\n",
       "      <td>0.000000</td>\n",
       "    </tr>\n",
       "    <tr>\n",
       "      <th>C619451848</th>\n",
       "      <td>37.075741</td>\n",
       "      <td>0.000000</td>\n",
       "    </tr>\n",
       "    <tr>\n",
       "      <th>C617323407</th>\n",
       "      <td>27.102701</td>\n",
       "      <td>0.000000</td>\n",
       "    </tr>\n",
       "    <tr>\n",
       "      <th>...</th>\n",
       "      <td>...</td>\n",
       "      <td>...</td>\n",
       "    </tr>\n",
       "    <tr>\n",
       "      <th>C617723960</th>\n",
       "      <td>517.910217</td>\n",
       "      <td>0.869565</td>\n",
       "    </tr>\n",
       "    <tr>\n",
       "      <th>C1572610482</th>\n",
       "      <td>581.060693</td>\n",
       "      <td>0.881188</td>\n",
       "    </tr>\n",
       "    <tr>\n",
       "      <th>C381007057</th>\n",
       "      <td>513.888700</td>\n",
       "      <td>0.890000</td>\n",
       "    </tr>\n",
       "    <tr>\n",
       "      <th>C2004941826</th>\n",
       "      <td>513.897460</td>\n",
       "      <td>0.944444</td>\n",
       "    </tr>\n",
       "    <tr>\n",
       "      <th>C910454738</th>\n",
       "      <td>410.820761</td>\n",
       "      <td>0.945652</td>\n",
       "    </tr>\n",
       "  </tbody>\n",
       "</table>\n",
       "<p>4112 rows × 2 columns</p>\n",
       "</div>"
      ],
      "text/plain": [
       "                 amount     fraud\n",
       "customer                         \n",
       "C1948728559   30.131520  0.000000\n",
       "C1862556322   34.696012  0.000000\n",
       "C1864289868   30.017861  0.000000\n",
       "C619451848    37.075741  0.000000\n",
       "C617323407    27.102701  0.000000\n",
       "...                 ...       ...\n",
       "C617723960   517.910217  0.869565\n",
       "C1572610482  581.060693  0.881188\n",
       "C381007057   513.888700  0.890000\n",
       "C2004941826  513.897460  0.944444\n",
       "C910454738   410.820761  0.945652\n",
       "\n",
       "[4112 rows x 2 columns]"
      ]
     },
     "execution_count": 18,
     "metadata": {},
     "output_type": "execute_result"
    }
   ],
   "source": [
    "print(\"Number of transactions by customer\\n\")\n",
    "print(data['customer'].value_counts())\n",
    "\n",
    "print(\"\\n>>>Percentage of fraud by customer\\n\")\n",
    "data.groupby(\"customer\")[\"amount\",\"fraud\"].mean().sort_values(by='fraud')"
   ]
  },
  {
   "cell_type": "markdown",
   "metadata": {},
   "source": [
    "#### Observation:\n",
    "> Certain customers have HIGH percentage of fraudulent transactions.\n",
    "\n",
    "\n",
    ">>>>> Continue to (ML predictions)"
   ]
  }
 ],
 "metadata": {
  "kernelspec": {
   "display_name": "Python 3",
   "language": "python",
   "name": "python3"
  },
  "language_info": {
   "codemirror_mode": {
    "name": "ipython",
    "version": 3
   },
   "file_extension": ".py",
   "mimetype": "text/x-python",
   "name": "python",
   "nbconvert_exporter": "python",
   "pygments_lexer": "ipython3",
   "version": "3.8.2"
  }
 },
 "nbformat": 4,
 "nbformat_minor": 1
}
