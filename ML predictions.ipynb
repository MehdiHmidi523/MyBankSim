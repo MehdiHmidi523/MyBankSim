{
 "cells": [
  {
   "cell_type": "markdown",
   "metadata": {
    "collapsed": true,
    "pycharm": {
     "name": "#%% md\n"
    }
   },
   "source": [
    "## Directed Analysis: Portfolio 5 pt.2 @MLAston\n",
    "\n",
    "#### Useful previous observations:\n",
    ">  Fraud transactions occur 1.2% of the time. Solution based on current data will probably overfit since it will \"assume\" that most transactions are not fraud.\n",
    "\n",
    "> \"Fraud\" is more and more likely on high transaction amounts\n",
    "\n",
    "> \"es_leisure\" and \"es_travel\" are the categories most likely to have a fraudulent transaction (also highest amounts)\n",
    "\n",
    "> The Highest percentage of fraud occurs more in ages<=18 i.e. category 0\n",
    "\n",
    "### Let's get the data ready"
   ]
  },
  {
   "cell_type": "code",
   "execution_count": 1,
   "metadata": {},
   "outputs": [
    {
     "name": "stderr",
     "output_type": "stream",
     "text": [
      "/Library/Frameworks/Python.framework/Versions/3.8/lib/python3.8/site-packages/IPython/core/interactiveshell.py:3062: DtypeWarning: Columns (0,8,9) have mixed types.Specify dtype option on import or set low_memory=False.\n",
      "  has_raised = await self.run_ast_nodes(code_ast.body, cell_name,\n"
     ]
    },
    {
     "data": {
      "text/html": [
       "<div>\n",
       "<style scoped>\n",
       "    .dataframe tbody tr th:only-of-type {\n",
       "        vertical-align: middle;\n",
       "    }\n",
       "\n",
       "    .dataframe tbody tr th {\n",
       "        vertical-align: top;\n",
       "    }\n",
       "\n",
       "    .dataframe thead th {\n",
       "        text-align: right;\n",
       "    }\n",
       "</style>\n",
       "<table border=\"1\" class=\"dataframe\">\n",
       "  <thead>\n",
       "    <tr style=\"text-align: right;\">\n",
       "      <th></th>\n",
       "      <th>step</th>\n",
       "      <th>customer</th>\n",
       "      <th>age</th>\n",
       "      <th>gender</th>\n",
       "      <th>merchant</th>\n",
       "      <th>category</th>\n",
       "      <th>amount</th>\n",
       "      <th>fraud</th>\n",
       "    </tr>\n",
       "  </thead>\n",
       "  <tbody>\n",
       "    <tr>\n",
       "      <th>1</th>\n",
       "      <td>156</td>\n",
       "      <td>210</td>\n",
       "      <td>4</td>\n",
       "      <td>2</td>\n",
       "      <td>30</td>\n",
       "      <td>12</td>\n",
       "      <td>4.55</td>\n",
       "      <td>0</td>\n",
       "    </tr>\n",
       "    <tr>\n",
       "      <th>2</th>\n",
       "      <td>156</td>\n",
       "      <td>2753</td>\n",
       "      <td>2</td>\n",
       "      <td>2</td>\n",
       "      <td>30</td>\n",
       "      <td>12</td>\n",
       "      <td>39.68</td>\n",
       "      <td>0</td>\n",
       "    </tr>\n",
       "    <tr>\n",
       "      <th>3</th>\n",
       "      <td>156</td>\n",
       "      <td>2285</td>\n",
       "      <td>4</td>\n",
       "      <td>1</td>\n",
       "      <td>18</td>\n",
       "      <td>12</td>\n",
       "      <td>26.89</td>\n",
       "      <td>0</td>\n",
       "    </tr>\n",
       "    <tr>\n",
       "      <th>4</th>\n",
       "      <td>156</td>\n",
       "      <td>1650</td>\n",
       "      <td>3</td>\n",
       "      <td>2</td>\n",
       "      <td>30</td>\n",
       "      <td>12</td>\n",
       "      <td>17.25</td>\n",
       "      <td>0</td>\n",
       "    </tr>\n",
       "    <tr>\n",
       "      <th>5</th>\n",
       "      <td>156</td>\n",
       "      <td>3585</td>\n",
       "      <td>5</td>\n",
       "      <td>2</td>\n",
       "      <td>30</td>\n",
       "      <td>12</td>\n",
       "      <td>35.72</td>\n",
       "      <td>0</td>\n",
       "    </tr>\n",
       "  </tbody>\n",
       "</table>\n",
       "</div>"
      ],
      "text/plain": [
       "   step  customer  age  gender  merchant  category  amount  fraud\n",
       "1   156       210    4       2        30        12    4.55      0\n",
       "2   156      2753    2       2        30        12   39.68      0\n",
       "3   156      2285    4       1        18        12   26.89      0\n",
       "4   156      1650    3       2        30        12   17.25      0\n",
       "5   156      3585    5       2        30        12   35.72      0"
      ]
     },
     "execution_count": 1,
     "metadata": {},
     "output_type": "execute_result"
    }
   ],
   "source": [
    "import matplotlib.pyplot as plt\n",
    "import numpy as np\n",
    "import seaborn as sns\n",
    "import pandas as pd\n",
    "from sklearn.linear_model import LogisticRegression\n",
    "from sklearn.metrics import confusion_matrix\n",
    "from matplotlib.colors import ListedColormap\n",
    "from sklearn.model_selection import train_test_split\n",
    "from sklearn.metrics import mean_squared_error,r2_score\n",
    "from factor_analyzer import FactorAnalyzer\n",
    "from sklearn.preprocessing import StandardScaler\n",
    "from sklearn.decomposition import PCA\n",
    "from sklearn.preprocessing import RobustScaler\n",
    "from sklearn.tree import DecisionTreeRegressor\n",
    "from sklearn.metrics import make_scorer\n",
    "from sklearn.ensemble import RandomForestRegressor\n",
    "from sklearn.model_selection import GridSearchCV\n",
    "from sklearn.metrics import classification_report\n",
    "from imblearn.combine import SMOTETomek\n",
    "from sklearn.metrics import accuracy_score\n",
    "from sklearn.utils import resample\n",
    "from sklearn.utils import shuffle\n",
    "\n",
    "\n",
    "# Import\n",
    "data = pd.read_csv('bs140513_032310.csv', names= ['step','customer','age','gender','zipcodeOri','merchant','zipMerchant','category','amount','fraud'])\n",
    "data = data.iloc[1:]\n",
    "data[\"amount\"] = data[\"amount\"].astype(float)\n",
    "col_categorical = data.select_dtypes(include= ['object']).columns\n",
    "for col in col_categorical:\n",
    "    data[col] = data[col].astype('category')\n",
    "data[col_categorical] = data[col_categorical].apply(lambda x: x.cat.codes)\n",
    "# Organize\n",
    "data = data.drop([\"zipcodeOri\"], axis = 1)\n",
    "data = data.drop([\"zipMerchant\"], axis = 1)\n",
    "# unique fraud values\n",
    "data[\"fraud\"]= pd.factorize(data.fraud)[0] % 2\n",
    "data.head()"
   ]
  },
  {
   "cell_type": "code",
   "execution_count": 2,
   "metadata": {},
   "outputs": [
    {
     "data": {
      "text/html": [
       "<div>\n",
       "<style scoped>\n",
       "    .dataframe tbody tr th:only-of-type {\n",
       "        vertical-align: middle;\n",
       "    }\n",
       "\n",
       "    .dataframe tbody tr th {\n",
       "        vertical-align: top;\n",
       "    }\n",
       "\n",
       "    .dataframe thead th {\n",
       "        text-align: right;\n",
       "    }\n",
       "</style>\n",
       "<table border=\"1\" class=\"dataframe\">\n",
       "  <thead>\n",
       "    <tr style=\"text-align: right;\">\n",
       "      <th></th>\n",
       "      <th>step</th>\n",
       "      <th>customer</th>\n",
       "      <th>age</th>\n",
       "      <th>gender</th>\n",
       "      <th>merchant</th>\n",
       "      <th>category</th>\n",
       "      <th>amount</th>\n",
       "      <th>fraud</th>\n",
       "    </tr>\n",
       "  </thead>\n",
       "  <tbody>\n",
       "    <tr>\n",
       "      <th>count</th>\n",
       "      <td>594643.000000</td>\n",
       "      <td>594643.000000</td>\n",
       "      <td>594643.000000</td>\n",
       "      <td>594643.000000</td>\n",
       "      <td>594643.000000</td>\n",
       "      <td>594643.000000</td>\n",
       "      <td>594643.000000</td>\n",
       "      <td>594643.000000</td>\n",
       "    </tr>\n",
       "    <tr>\n",
       "      <th>mean</th>\n",
       "      <td>90.797035</td>\n",
       "      <td>2042.317776</td>\n",
       "      <td>3.014151</td>\n",
       "      <td>1.451089</td>\n",
       "      <td>23.866580</td>\n",
       "      <td>11.066393</td>\n",
       "      <td>37.890135</td>\n",
       "      <td>0.012108</td>\n",
       "    </tr>\n",
       "    <tr>\n",
       "      <th>std</th>\n",
       "      <td>49.955379</td>\n",
       "      <td>1185.491845</td>\n",
       "      <td>1.335884</td>\n",
       "      <td>0.503291</td>\n",
       "      <td>8.590215</td>\n",
       "      <td>2.817118</td>\n",
       "      <td>111.402831</td>\n",
       "      <td>0.109369</td>\n",
       "    </tr>\n",
       "    <tr>\n",
       "      <th>min</th>\n",
       "      <td>0.000000</td>\n",
       "      <td>0.000000</td>\n",
       "      <td>0.000000</td>\n",
       "      <td>0.000000</td>\n",
       "      <td>0.000000</td>\n",
       "      <td>0.000000</td>\n",
       "      <td>0.000000</td>\n",
       "      <td>0.000000</td>\n",
       "    </tr>\n",
       "    <tr>\n",
       "      <th>25%</th>\n",
       "      <td>49.000000</td>\n",
       "      <td>1020.000000</td>\n",
       "      <td>2.000000</td>\n",
       "      <td>1.000000</td>\n",
       "      <td>18.000000</td>\n",
       "      <td>12.000000</td>\n",
       "      <td>13.740000</td>\n",
       "      <td>0.000000</td>\n",
       "    </tr>\n",
       "    <tr>\n",
       "      <th>50%</th>\n",
       "      <td>92.000000</td>\n",
       "      <td>2030.000000</td>\n",
       "      <td>3.000000</td>\n",
       "      <td>1.000000</td>\n",
       "      <td>18.000000</td>\n",
       "      <td>12.000000</td>\n",
       "      <td>26.900000</td>\n",
       "      <td>0.000000</td>\n",
       "    </tr>\n",
       "    <tr>\n",
       "      <th>75%</th>\n",
       "      <td>133.000000</td>\n",
       "      <td>3059.000000</td>\n",
       "      <td>4.000000</td>\n",
       "      <td>2.000000</td>\n",
       "      <td>30.000000</td>\n",
       "      <td>12.000000</td>\n",
       "      <td>42.540000</td>\n",
       "      <td>0.000000</td>\n",
       "    </tr>\n",
       "    <tr>\n",
       "      <th>max</th>\n",
       "      <td>180.000000</td>\n",
       "      <td>4111.000000</td>\n",
       "      <td>7.000000</td>\n",
       "      <td>3.000000</td>\n",
       "      <td>49.000000</td>\n",
       "      <td>14.000000</td>\n",
       "      <td>8329.960000</td>\n",
       "      <td>1.000000</td>\n",
       "    </tr>\n",
       "  </tbody>\n",
       "</table>\n",
       "</div>"
      ],
      "text/plain": [
       "                step       customer            age         gender  \\\n",
       "count  594643.000000  594643.000000  594643.000000  594643.000000   \n",
       "mean       90.797035    2042.317776       3.014151       1.451089   \n",
       "std        49.955379    1185.491845       1.335884       0.503291   \n",
       "min         0.000000       0.000000       0.000000       0.000000   \n",
       "25%        49.000000    1020.000000       2.000000       1.000000   \n",
       "50%        92.000000    2030.000000       3.000000       1.000000   \n",
       "75%       133.000000    3059.000000       4.000000       2.000000   \n",
       "max       180.000000    4111.000000       7.000000       3.000000   \n",
       "\n",
       "            merchant       category         amount          fraud  \n",
       "count  594643.000000  594643.000000  594643.000000  594643.000000  \n",
       "mean       23.866580      11.066393      37.890135       0.012108  \n",
       "std         8.590215       2.817118     111.402831       0.109369  \n",
       "min         0.000000       0.000000       0.000000       0.000000  \n",
       "25%        18.000000      12.000000      13.740000       0.000000  \n",
       "50%        18.000000      12.000000      26.900000       0.000000  \n",
       "75%        30.000000      12.000000      42.540000       0.000000  \n",
       "max        49.000000      14.000000    8329.960000       1.000000  "
      ]
     },
     "execution_count": 2,
     "metadata": {},
     "output_type": "execute_result"
    }
   ],
   "source": [
    "data.describe()"
   ]
  },
  {
   "cell_type": "markdown",
   "metadata": {},
   "source": [
    "## First approach:\n",
    "### Feature Engineering: Let's first scale the data using StandardScaler: \n",
    "#### Let's attempt to determine the appropriate minimum dimensionality to project the data = the better the features that I prepare and choose, the better the results I will achieve.\n",
    "\n",
    "#### Preliminary assessment:"
   ]
  },
  {
   "cell_type": "code",
   "execution_count": 3,
   "metadata": {
    "pycharm": {
     "is_executing": true
    },
    "scrolled": false
   },
   "outputs": [
    {
     "name": "stdout",
     "output_type": "stream",
     "text": [
      "Shape of array:  (594643, 7)\n",
      "\n",
      "# PCA method: \n",
      "\n",
      "Explained variance ratios:  [0.18483855 0.14464039 0.14323639 0.1427433  0.14143912 0.13616801\n",
      " 0.10693423]\n"
     ]
    },
    {
     "data": {
      "image/png": "[encoded data removed]",
      "text/plain": [
       "<Figure size 432x288 with 1 Axes>"
      ]
     },
     "metadata": {
      "needs_background": "light"
     },
     "output_type": "display_data"
    },
    {
     "name": "stdout",
     "output_type": "stream",
     "text": [
      "\n",
      "\n",
      "# Factor Analysis Communalities\n",
      "0    0.054882\n",
      "1    0.039579\n",
      "2    0.028083\n",
      "3    0.030436\n",
      "4    0.276076\n",
      "5    0.256914\n",
      "6    0.080559\n",
      "Name: Communalities, dtype: float64\n",
      "\n",
      "\n",
      "                  Factor 1  Factor 2  Factor 3  Factor 4  Factor 5  Factor 6  \\\n",
      "Variance          0.520376  0.089639  0.066785  0.037493  0.028634  0.023601   \n",
      "Proportional Var  0.074339  0.012806  0.009541  0.005356  0.004091  0.003372   \n",
      "Cumulative Var    0.074339  0.087145  0.096686  0.102042  0.106132  0.109504   \n",
      "\n",
      "                  Factor 7  \n",
      "Variance          0.000000  \n",
      "Proportional Var  0.000000  \n",
      "Cumulative Var    0.109504  \n"
     ]
    }
   ],
   "source": [
    "X = data.drop(['fraud'],axis=1)\n",
    "y = data['fraud']\n",
    "X_std = StandardScaler().fit_transform(X)\n",
    "print(\"Shape of array: \", X_std.shape)\n",
    "\n",
    "pca = PCA(n_components=7)\n",
    "pca.fit(X_std)\n",
    "\n",
    "print(\"\\n# PCA method: \")\n",
    "print(\"\\nExplained variance ratios: \",pca.explained_variance_ratio_)\n",
    "X_features = pca.transform(X_std)\n",
    "plt.title('PCA Transformed Data')\n",
    "plt.scatter(X_features[:,0], X_features[:,2])\n",
    "plt.scatter(X_features[:,0], X_features[:,1])\n",
    "plt.scatter(X_features[:,0], X_features[:,3])\n",
    "plt.scatter(X_features[:,0], X_features[:,4])\n",
    "plt.scatter(X_features[:,0], X_features[:,5])\n",
    "plt.scatter(X_features[:,0], X_features[:,6])\n",
    "plt.show()\n",
    "\n",
    "# FactorAnalyzer library to catch the loadings\n",
    "a = FactorAnalyzer(rotation=\"oblimin\", n_factors=7)\n",
    "a.fit(X_std)\n",
    "display = pd.DataFrame( a.loadings_,  columns =['Factor 1', 'Factor 2', 'Factor 3','Factor 4', 'Factor 5', 'Factor 6','Factor 7']) \n",
    "# Communalities are proportion of each variable's variance that can be explained by the factors\n",
    "display['Communalities']= a.get_communalities() \n",
    "print(\"\\n\\n# Factor Analysis Communalities\")\n",
    "print(display['Communalities'])\n",
    "print('\\n')\n",
    "print(pd.DataFrame(a.get_factor_variance(),\n",
    "                   index=['Variance','Proportional Var','Cumulative Var'],\n",
    "                   columns =['Factor 1', 'Factor 2', 'Factor 3','Factor 4', 'Factor 5', 'Factor 6','Factor 7']))"
   ]
  },
  {
   "cell_type": "markdown",
   "metadata": {},
   "source": [
    "####  without rotation, using the default number of factors => FA Explains a low 10% of the total variability and using PCA extraction explained variance ratios are quite low as well with:  0.18483855 0.14464039 0.14323639 ....\n",
    "\n",
    "> The dimensions suggested do not capture enough variance in the data. Across the table it is difficult to interpret the loadings.\n",
    "\n",
    "### Recall that the \"amount\" average is around 37,8 and yet the max value is 8329,9\n",
    "## Let's try using the interquartile range instead of the mean for scaling the data!"
   ]
  },
  {
   "cell_type": "code",
   "execution_count": 4,
   "metadata": {
    "pycharm": {
     "is_executing": true
    }
   },
   "outputs": [
    {
     "name": "stdout",
     "output_type": "stream",
     "text": [
      "\n",
      "Probe assessment. \n",
      "\n",
      "# PCA method: \n",
      "\n",
      "Explained variance ratios:  [0.60994792 0.31466434 0.01939103 0.01796952 0.01420938 0.01361079\n",
      " 0.01020702]\n"
     ]
    },
    {
     "data": {
      "image/png": "[encoded data removed]",
      "text/plain": [
       "<Figure size 432x288 with 1 Axes>"
      ]
     },
     "metadata": {
      "needs_background": "light"
     },
     "output_type": "display_data"
    },
    {
     "name": "stdout",
     "output_type": "stream",
     "text": [
      "\n",
      "\n",
      "# Factor Analysis Communalities\n",
      "0    0.054882\n",
      "1    0.039579\n",
      "2    0.028083\n",
      "3    0.030436\n",
      "4    0.276076\n",
      "5    0.256914\n",
      "6    0.080559\n",
      "Name: Communalities, dtype: float64\n",
      "\n",
      "\n",
      "                  Factor 1  Factor 2  Factor 3  Factor 4  Factor 5  Factor 6  \\\n",
      "Variance          0.520376  0.089639  0.066785  0.037493  0.028634  0.023601   \n",
      "Proportional Var  0.074339  0.012806  0.009541  0.005356  0.004091  0.003372   \n",
      "Cumulative Var    0.074339  0.087145  0.096686  0.102042  0.106132  0.109504   \n",
      "\n",
      "                  Factor 7  \n",
      "Variance          0.000000  \n",
      "Proportional Var  0.000000  \n",
      "Cumulative Var    0.109504  \n"
     ]
    }
   ],
   "source": [
    "X_std = RobustScaler().fit_transform(X)\n",
    "\n",
    "pca = PCA(n_components=7)\n",
    "pca.fit(X_std)\n",
    "print(\"\\nProbe assessment. \")\n",
    "print(\"\\n# PCA method: \")\n",
    "print(\"\\nExplained variance ratios: \",pca.explained_variance_ratio_)\n",
    "X_features = pca.transform(X_std)\n",
    "plt.title('PCA Transformed Data')\n",
    "plt.scatter(X_features[:,0], X_features[:,2])\n",
    "plt.scatter(X_features[:,0], X_features[:,1])\n",
    "plt.scatter(X_features[:,0], X_features[:,3])\n",
    "plt.scatter(X_features[:,0], X_features[:,4])\n",
    "plt.scatter(X_features[:,0], X_features[:,5])\n",
    "plt.scatter(X_features[:,0], X_features[:,6])\n",
    "plt.show()\n",
    "\n",
    "# FactorAnalyzer library to catch the loadings\n",
    "a = FactorAnalyzer(rotation=\"oblimin\", n_factors=7)\n",
    "a.fit(X_std)\n",
    "display = pd.DataFrame( a.loadings_,  columns =['Factor 1', 'Factor 2', 'Factor 3','Factor 4', 'Factor 5', 'Factor 6','Factor 7']) \n",
    "# Communalities are proportion of each variable's variance that can be explained by the factors\n",
    "display['Communalities']= a.get_communalities() \n",
    "print(\"\\n\\n# Factor Analysis Communalities\")\n",
    "print(display['Communalities'])\n",
    "print('\\n')\n",
    "print(pd.DataFrame(a.get_factor_variance(),\n",
    "                   index=['Variance','Proportional Var','Cumulative Var'],\n",
    "                   columns =['Factor 1', 'Factor 2', 'Factor 3','Factor 4', 'Factor 5', 'Factor 6','Factor 7']))"
   ]
  },
  {
   "cell_type": "markdown",
   "metadata": {},
   "source": [
    "### It appears that scaling the data not on the mean but on the interquartile range improves the PCA explanation of the variances significantly:  0.60994792 0.31466434 0.01939103 ... while no significant impact happened in the Factor analysis\n",
    "\n",
    "> Here I find a promising lead to a good linear combination of some variables but not a significant measurement model of latent variables\n",
    "\n",
    "### In these results, 0.609, and 0.314 of the variability in the data is explained by PCA1 and PCA2 Both factors together explain 92%, or the variability in the data.\n",
    "\n",
    "## Let's figure out the right number of factors for PCA\n"
   ]
  },
  {
   "cell_type": "code",
   "execution_count": 5,
   "metadata": {
    "pycharm": {
     "is_executing": true
    },
    "scrolled": false
   },
   "outputs": [
    {
     "data": {
      "image/png": "[encoded data removed]",
      "text/plain": [
       "<Figure size 432x288 with 1 Axes>"
      ]
     },
     "metadata": {
      "needs_background": "light"
     },
     "output_type": "display_data"
    },
    {
     "name": "stdout",
     "output_type": "stream",
     "text": [
      "\n",
      "It appears 2 factors >=1% will satisfy\n",
      "\n",
      "\n",
      "#PCA method: \n",
      "\n",
      "Explained variance ratios:  [0.60994792 0.31466434]\n",
      "\n",
      "#PCA Loadings_\n",
      "\n",
      "   Factor 1  Factor 2\n",
      "0     -0.00     -0.00\n",
      "1      0.00      0.00\n",
      "2     -0.00      0.00\n",
      "3     -0.00      0.00\n",
      "4      0.02     -0.06\n",
      "5     -0.15      0.99\n",
      "6      0.99      0.15\n"
     ]
    },
    {
     "data": {
      "image/png": "[encoded data removed]",
      "text/plain": [
       "<Figure size 432x288 with 1 Axes>"
      ]
     },
     "metadata": {
      "needs_background": "light"
     },
     "output_type": "display_data"
    }
   ],
   "source": [
    "ev, v = a.get_eigenvalues()\n",
    "plt.scatter(range(1,X_std.shape[1]+1),ev)\n",
    "plt.plot(range(1,X_std.shape[1]+1),ev)\n",
    "plt.title('Scree Plot')\n",
    "plt.xlabel('Factors')\n",
    "plt.ylabel('Eigenvalue (unit-scaled loadings)')\n",
    "plt.grid(True)\n",
    "plt.show()\n",
    "\n",
    "print(\"\\nIt appears 2 factors >=1% will satisfy\\n\")\n",
    "pca = PCA(n_components=2)\n",
    "pca.fit(X_std)\n",
    "print(\"\\n#PCA method: \")\n",
    "print(\"\\nExplained variance ratios: \",pca.explained_variance_ratio_)\n",
    "pcaLoadings_ = pd.DataFrame(np.round(pca.components_,2)[0], columns=[\"Factor 1\"])\n",
    "pcaLoadings_[\"Factor 2\"] = np.round(pca.components_,2)[1]\n",
    "print(\"\\n#PCA Loadings_\\n\")\n",
    "print(pcaLoadings_)\n",
    "\n",
    "X_features = pca.transform(X_std)\n",
    "plt.title('Fraud in PCA Transformed Data')\n",
    "sns.scatterplot(X_features[:,0], X_features[:,1],hue=y)\n",
    "plt.show()"
   ]
  },
  {
   "cell_type": "code",
   "execution_count": 6,
   "metadata": {
    "pycharm": {
     "is_executing": true
    }
   },
   "outputs": [
    {
     "name": "stdout",
     "output_type": "stream",
     "text": [
      "(594643, 2)\n"
     ]
    },
    {
     "data": {
      "text/plain": [
       "array([[-8.59319628e-05,  8.79339625e-04, -7.71911439e-04,\n",
       "        -1.78042072e-03,  1.73739525e-02, -1.49107988e-01,\n",
       "         9.88665974e-01],\n",
       "       [-1.69397331e-03,  2.51297336e-04,  9.79932544e-04,\n",
       "         9.51320765e-04, -6.32220408e-02,  9.86672208e-01,\n",
       "         1.49920410e-01]])"
      ]
     },
     "execution_count": 6,
     "metadata": {},
     "output_type": "execute_result"
    }
   ],
   "source": [
    "print(X_features.shape)\n",
    "pca.components_"
   ]
  },
  {
   "cell_type": "markdown",
   "metadata": {},
   "source": [
    "\n",
    "> Overall relationship between the data points is preserved\n",
    "despite the reduction of dimensions with 92% compatibility.\n",
    "\n",
    "### Model Building Baseline\n",
    "#### Linear Algorithms: Logistic regression"
   ]
  },
  {
   "cell_type": "code",
   "execution_count": 7,
   "metadata": {
    "pycharm": {
     "is_executing": true
    }
   },
   "outputs": [
    {
     "name": "stdout",
     "output_type": "stream",
     "text": [
      "Train MSE score: 0.00671951951951952\n",
      "Test MSE score: 0.0062278228405823095\n",
      "R2 score logistic regression:  0.4686501604232116\n"
     ]
    },
    {
     "data": {
      "image/png": "[encoded data removed]",
      "text/plain": [
       "<Figure size 432x288 with 1 Axes>"
      ]
     },
     "metadata": {
      "needs_background": "light"
     },
     "output_type": "display_data"
    },
    {
     "data": {
      "image/png": "[encoded data removed]",
      "text/plain": [
       "<Figure size 432x288 with 1 Axes>"
      ]
     },
     "metadata": {
      "needs_background": "light"
     },
     "output_type": "display_data"
    },
    {
     "data": {
      "image/png": "[encoded data removed]",
      "text/plain": [
       "<Figure size 432x288 with 1 Axes>"
      ]
     },
     "metadata": {
      "needs_background": "light"
     },
     "output_type": "display_data"
    }
   ],
   "source": [
    "X_train,X_test,y_train,y_test = train_test_split(X_features,y,test_size=0.30,random_state=42)\n",
    "\n",
    "def mapFeature(X1, X2, D, eins):\n",
    "    if eins:\n",
    "        Xe = np.c_[np.ones([len(X1), 1]), X1, X2]\n",
    "    else:\n",
    "        Xe = np.c_[X1, X2]\n",
    "    for i in range(2, D + 1):\n",
    "        for j in range(0, i + 1):\n",
    "            Xe = np.append(Xe, (X1 ** (i - j) * X2 ** j).reshape(-1, 1), 1)\n",
    "    return Xe\n",
    "\n",
    "def mesh_grid_plot(X, y, i):\n",
    "    h = .05\n",
    "    x_min, x_max = X[:, 0].min() - 1, X[:, 0].max() + 1\n",
    "    y_min, y_max = X[:, 1].min() - 1, X[:, 1].max() + 1\n",
    "    xx, yy = np.meshgrid(np.arange(x_min, x_max, h), np.arange(y_min, y_max, h))\n",
    "    x1, x2 = xx.ravel(), yy.ravel()\n",
    "\n",
    "    xy_mesh = mapFeature(x1, x2, i, False)\n",
    "    classes = result.predict(xy_mesh)\n",
    "    clz_mesh = classes.reshape(xx.shape)\n",
    "\n",
    "    light = ListedColormap(['#FFAAAA', '#AAFFAA', '#AAAAFF'])\n",
    "    points = ListedColormap(['#FF0000', '#00FF00', '#0000FF'])\n",
    "    plt.pcolormesh(xx, yy, clz_mesh, cmap=light)\n",
    "    plt.scatter(X[:, 0], X[:, 1], c=y, marker='.', cmap=points)\n",
    "    \n",
    "\n",
    "result = LogisticRegression(solver='lbfgs', C=1000, tol=1e-6, max_iter=100000)\n",
    "result.fit(X_train,y_train)\n",
    "\n",
    "pred_test = result.predict(X_test)\n",
    "pred_train = result.predict(X_train)\n",
    "\n",
    "train =(mean_squared_error(y_train,pred_train))\n",
    "test =(mean_squared_error(y_test,pred_test))\n",
    "print(\"Train MSE score:\",train)\n",
    "print(\"Test MSE score:\",test)\n",
    "print(\"R2 score logistic regression: \",r2_score(y_test,pred_test))\n",
    "sns.distplot(y_test-pred_test) \n",
    "\n",
    "Xe = np.c_[X_features[:, 0],\n",
    "           X_features[:, 1],\n",
    "           pow(X_features[:, 0], 2),\n",
    "           X_features[:, 0] * X_features[:, 1],\n",
    "           pow(X_features[:, 1], 2)]\n",
    "\n",
    "plt.figure(2)\n",
    "result = LogisticRegression(solver='lbfgs', C=1000, tol=1e-6, max_iter=100000)\n",
    "result.fit(Xe, y)\n",
    "Xe = mapFeature(X_features[:, 0], X_features[:, 1], 2, False)\n",
    "result.fit(Xe, y)\n",
    "mesh_grid_plot(Xe, y,2)\n",
    "plt.title(\"D = 2, Training errors = \" + str(np.sum(result.predict(Xe) != y)))\n",
    "plt.show()\n",
    "\n",
    "plt.figure(3)\n",
    "result = LogisticRegression(solver='lbfgs', C=1000, tol=1e-6, max_iter=100000)\n",
    "result.fit(X_features, y)\n",
    "Xe = mapFeature(X_features[:, 0], X_features[:, 1], 1, False)\n",
    "result.fit(Xe, y)\n",
    "mesh_grid_plot(Xe, y,1)\n",
    "plt.title(\"D = 1, Training errors = \" + str(np.sum(result.predict(Xe) != y)))\n",
    "plt.show()"
   ]
  },
  {
   "cell_type": "markdown",
   "metadata": {},
   "source": [
    "#### With an MSE that is almost 0 one might think the solution is ideally trained and goal is 100%.\n",
    "#### => yet upon further inspection, the solution space plot and training errors spell the truth. \n",
    "> for 70% of 7200 is 5040 and training errors are between 3500 and 3900 that is quite the poor performance around …31% correctness\n",
    "## Could this misleading result be due to the choice of algorithm, or the heavily skewed nature of the features?"
   ]
  },
  {
   "cell_type": "markdown",
   "metadata": {},
   "source": [
    "### First: Let's explore an alternative non-Linear Algorithms\n",
    "### DecisionTreeRegressor\n",
    "> decision trees, do a better job at capturing the non-linearity in the data by dividing the space into smaller sub-spaces. Let's see how it performs"
   ]
  },
  {
   "cell_type": "code",
   "execution_count": 8,
   "metadata": {
    "pycharm": {
     "is_executing": true
    },
    "scrolled": false
   },
   "outputs": [
    {
     "name": "stdout",
     "output_type": "stream",
     "text": [
      "******* DecisionTreeRegressor kernel\n",
      "Best params learned via GridSearch DecisionTreeRegressor(max_depth=8)\n",
      "******* DecisionTreeRegressor results:\n",
      "\n",
      "r2_score:  0.6610139059853274\n",
      "Train MSE score: 0.0037444974668410257\n",
      "Test MSE score:  0.003973173946238233\n",
      "Training errors 2791\n",
      "Test errors 1114\n"
     ]
    },
    {
     "data": {
      "image/png": "[encoded data removed]",
      "text/plain": [
       "<Figure size 720x576 with 4 Axes>"
      ]
     },
     "metadata": {
      "needs_background": "light"
     },
     "output_type": "display_data"
    },
    {
     "data": {
      "image/png": "[encoded data removed]",
      "text/plain": [
       "<Figure size 504x360 with 1 Axes>"
      ]
     },
     "metadata": {
      "needs_background": "light"
     },
     "output_type": "display_data"
    },
    {
     "data": {
      "text/plain": [
       "<matplotlib.axes._subplots.AxesSubplot at 0x7ffe3ba7d280>"
      ]
     },
     "execution_count": 8,
     "metadata": {},
     "output_type": "execute_result"
    },
    {
     "data": {
      "image/png": "[encoded data removed]",
      "text/plain": [
       "<Figure size 432x288 with 1 Axes>"
      ]
     },
     "metadata": {
      "needs_background": "light"
     },
     "output_type": "display_data"
    }
   ],
   "source": [
    "def learning_curves(X_train, y_train, X_test, y_test):\n",
    "    fig = plt.figure(figsize=(10, 8))\n",
    "    # We will vary the training set size so that we have 50 different sizes\n",
    "    sizes = np.rint(np.linspace(1, len(X_train), 50)).astype(int)\n",
    "    train_err = np.zeros(len(sizes))\n",
    "    test_err = np.zeros(len(sizes))\n",
    "    for k, depth in enumerate([1, 3, 6, 10]):\n",
    "        for i, s in enumerate(sizes):\n",
    "            regressor = DecisionTreeRegressor(max_depth=depth)\n",
    "            regressor.fit(X_train[:s], y_train[:s])\n",
    "            train_err[i] = performance_metric(y_train[:s], regressor.predict(X_train[:s]))\n",
    "            test_err[i] = performance_metric(y_test, regressor.predict(X_test))\n",
    "        # Subplot the learning curve graph\n",
    "        ax = fig.add_subplot(2, 2, k + 1)\n",
    "        ax.plot(sizes, test_err, lw=2, label='Testing Error')\n",
    "        ax.plot(sizes, train_err, lw=2, label='Training Error')\n",
    "        ax.legend()\n",
    "        ax.set_title('max_depth = %s' % depth)\n",
    "        ax.set_xlabel('Number of Data Points in Training Set')\n",
    "        ax.set_ylabel('Total Error')\n",
    "        ax.set_xlim([0, len(X_train)])\n",
    "    plt.suptitle('Decision Tree Regressor Learning Performances', fontsize=18, y=1.03)\n",
    "    plt.tight_layout()\n",
    "    plt.show()\n",
    "\n",
    "def model_complexity(X_train, y_train, X_test, y_test):\n",
    "    max_depth = np.arange(1, 14)\n",
    "    train_err = np.zeros(len(max_depth))\n",
    "    test_err = np.zeros(len(max_depth))\n",
    "    for i, d in enumerate(max_depth):\n",
    "        regressor = DecisionTreeRegressor(max_depth=d)\n",
    "        regressor.fit(X_train, y_train)\n",
    "        train_err[i] = performance_metric(y_train, regressor.predict(X_train))\n",
    "        test_err[i] = performance_metric(y_test, regressor.predict(X_test))\n",
    "    plt.figure(figsize=(7, 5))\n",
    "    plt.title('Decision Tree Regressor Complexity Performance')\n",
    "    plt.plot(max_depth, test_err, lw=2, label='Testing Error')\n",
    "    plt.plot(max_depth, train_err, lw=2, label='Training Error')\n",
    "    plt.legend()\n",
    "    plt.xlabel('Maximum Depth')\n",
    "    plt.ylabel('Total Error')\n",
    "    plt.show()\n",
    "\n",
    "def performance_metric(y_true, y_predict):\n",
    "    return mean_squared_error(y_true, y_predict)\n",
    "\n",
    "print('******* DecisionTreeRegressor kernel')\n",
    "\n",
    "# Cross validate and fine tune hyper parameters\n",
    "tuned_params = {\"max_depth\": [1, 2, 3, 4, 5, 6, 7, 8, 9,10]}\n",
    "optimiser = GridSearchCV(DecisionTreeRegressor(), tuned_params, n_jobs=-1)\n",
    "optimiser.fit(X_train, y_train)\n",
    "predictor = optimiser.predict(X_test)\n",
    "print(\"Best params learned via GridSearch\", optimiser.best_estimator_)\n",
    "\n",
    "print(\"******* DecisionTreeRegressor results:\\n\\nr2_score: \", optimiser.score(X_test, y_test))\n",
    "preds = optimiser.predict(X_train)\n",
    "mse = np.sum((preds - y_train) ** 2) / len(preds)\n",
    "print(\"Train MSE score:\", mse)\n",
    "print(\"Test MSE score: \", np.sum((predictor - y_test) ** 2) / len(predictor))\n",
    "\n",
    "print(\"Training errors\", str(np.sum(result.predict(X_train) != y_train)))\n",
    "print(\"Test errors\", str(np.sum(result.predict(X_test) != y_test)))\n",
    "\n",
    "learning_curves(X_train, y_train, X_test, y_test)\n",
    "model_complexity(X_train, y_train, X_test, y_test)\n",
    "\n",
    "sns.distplot(y_test-pred_test) "
   ]
  },
  {
   "cell_type": "markdown",
   "metadata": {},
   "source": [
    "### It appears that we can produce less errors, an improved r2_score and an MSE that is also almost 0.\n",
    "### => yet still this is not satisfactory! it is misleading\n",
    "> for 70% of 7200 is 5040 and training error is 2791 and that is still quite a poor performance of 55,3% very slightly better than a coin toss."
   ]
  },
  {
   "cell_type": "markdown",
   "metadata": {},
   "source": [
    "### Let's PIVOT: Initial Approach  rejected!\n",
    "### Unfortunately, and admittedly, the severly skewed data swamp the accuracy metric.\n",
    "\n",
    "### ==> We cannot circumvent the nature of the data unless we take an alternative approach."
   ]
  },
  {
   "cell_type": "markdown",
   "metadata": {},
   "source": [
    "In this regard, the literature describes handling imbalanced datasets by rating classification errors with the minority class as more important than those with the majority class.\n",
    "\n",
    "\n",
    "#### Approaches to handle imbalanced classes:\n",
    "    Random Oversampling: \n",
    "   > Useful but the fraudulent transactions can vary.\n",
    "\n",
    "    Random Undersampling:\n",
    "   > Balanced distribution but we lose data\n",
    "   \n",
    "    Combined Oversampling and Undersampling\n",
    "   > Examples of popular combinations: \n",
    "      SMOTE and Random Undersampling, SMOTE and Edited Nearest Neighbors\n",
    "    \n"
   ]
  },
  {
   "cell_type": "markdown",
   "metadata": {},
   "source": [
    "## Second Approach: Naive Data reSampling\n",
    "### ML: Random OverSampling of the minority class 1:1"
   ]
  },
  {
   "cell_type": "code",
   "execution_count": 9,
   "metadata": {
    "pycharm": {
     "is_executing": true
    }
   },
   "outputs": [
    {
     "name": "stderr",
     "output_type": "stream",
     "text": [
      "/Library/Frameworks/Python.framework/Versions/3.8/lib/python3.8/site-packages/sklearn/linear_model/_logistic.py:763: ConvergenceWarning: lbfgs failed to converge (status=1):\n",
      "STOP: TOTAL NO. of ITERATIONS REACHED LIMIT.\n",
      "\n",
      "Increase the number of iterations (max_iter) or scale the data as shown in:\n",
      "    https://scikit-learn.org/stable/modules/preprocessing.html\n",
      "Please also refer to the documentation for alternative solver options:\n",
      "    https://scikit-learn.org/stable/modules/linear_model.html#logistic-regression\n",
      "  n_iter_i = _check_optimize_result(\n"
     ]
    },
    {
     "name": "stdout",
     "output_type": "stream",
     "text": [
      "Accuracy : 91.17%\n"
     ]
    },
    {
     "data": {
      "text/plain": [
       "<matplotlib.axes._subplots.AxesSubplot at 0x7ffe1267ce50>"
      ]
     },
     "execution_count": 9,
     "metadata": {},
     "output_type": "execute_result"
    },
    {
     "data": {
      "image/png": "[encoded data removed]",
      "text/plain": [
       "<Figure size 432x288 with 1 Axes>"
      ]
     },
     "metadata": {
      "needs_background": "light"
     },
     "output_type": "display_data"
    }
   ],
   "source": [
    "X_origin = data.drop(['fraud'],axis=1)\n",
    "y_origin = data['fraud']\n",
    "\n",
    "minority = data.loc[data.fraud == 1] \n",
    "majority = data.loc[data.fraud == 0]\n",
    "\n",
    "minority_oversampled = resample(minority, replace=True, n_samples=580000, random_state=0)\n",
    "data_oversampled = pd.concat([majority, minority_oversampled])\n",
    "data_oversampled = shuffle(data_oversampled)\n",
    "data_oversampled.reset_index(inplace=True, drop=True)\n",
    "\n",
    "X_oversampled = data_oversampled.drop(['fraud'], axis=1)\n",
    "y_oversampled = data_oversampled['fraud']\n",
    "\n",
    "X_train, X_test, y_train, y_test = train_test_split(X_oversampled,y_oversampled,test_size=0.3,random_state=42,shuffle=True,stratify=y_oversampled)\n",
    "\n",
    "logreg1 = LogisticRegression()\n",
    "clf1 = logreg1.fit(X_train, y_train)\n",
    "\n",
    "y_pred = clf1.predict(X_test)\n",
    "\n",
    "accuracy1 = accuracy_score(y_pred, y_test)\n",
    "print(\"Accuracy : %.2f%%\" % (accuracy1 * 100.0))\n",
    "sns.distplot(y_test-y_pred)"
   ]
  },
  {
   "cell_type": "markdown",
   "metadata": {},
   "source": [
    "### ML: Random underSampling of the majority class 1:1"
   ]
  },
  {
   "cell_type": "code",
   "execution_count": 10,
   "metadata": {
    "pycharm": {
     "is_executing": true
    }
   },
   "outputs": [
    {
     "name": "stdout",
     "output_type": "stream",
     "text": [
      "Accuracy : 91.82%\n"
     ]
    },
    {
     "name": "stderr",
     "output_type": "stream",
     "text": [
      "/Library/Frameworks/Python.framework/Versions/3.8/lib/python3.8/site-packages/sklearn/linear_model/_logistic.py:763: ConvergenceWarning: lbfgs failed to converge (status=1):\n",
      "STOP: TOTAL NO. of ITERATIONS REACHED LIMIT.\n",
      "\n",
      "Increase the number of iterations (max_iter) or scale the data as shown in:\n",
      "    https://scikit-learn.org/stable/modules/preprocessing.html\n",
      "Please also refer to the documentation for alternative solver options:\n",
      "    https://scikit-learn.org/stable/modules/linear_model.html#logistic-regression\n",
      "  n_iter_i = _check_optimize_result(\n"
     ]
    },
    {
     "data": {
      "text/plain": [
       "<matplotlib.axes._subplots.AxesSubplot at 0x7ffdbf6ac2e0>"
      ]
     },
     "execution_count": 10,
     "metadata": {},
     "output_type": "execute_result"
    },
    {
     "data": {
      "image/png": "[encoded data removed]",
      "text/plain": [
       "<Figure size 432x288 with 1 Axes>"
      ]
     },
     "metadata": {
      "needs_background": "light"
     },
     "output_type": "display_data"
    }
   ],
   "source": [
    "majority_undersampled = resample(majority, replace=True, n_samples=14000, random_state=0)\n",
    "data_undersampled = pd.concat([majority_undersampled, minority])\n",
    "\n",
    "data_undersampled = shuffle(data_undersampled)\n",
    "data_undersampled.reset_index(inplace=True, drop=True)\n",
    "\n",
    "X_undersampled = data_undersampled.drop(['fraud'], axis=1)\n",
    "y_undersampled = data_undersampled['fraud']\n",
    "\n",
    "X_train, X_test, y_train, y_test = train_test_split(X_undersampled,y_undersampled,test_size=0.3,random_state=42,shuffle=True,stratify=y_undersampled)\n",
    "\n",
    "logreg2 = LogisticRegression()\n",
    "clf2 = logreg2.fit(X_train, y_train)\n",
    "\n",
    "y_pred = clf2.predict(X_test)\n",
    "accuracy2 = accuracy_score(y_pred, y_test)\n",
    "print(\"Accuracy : %.2f%%\" % (accuracy2 * 100.0))\n",
    "sns.distplot(y_test-y_pred)"
   ]
  },
  {
   "cell_type": "markdown",
   "metadata": {},
   "source": [
    "### In the literature: A more advanced and possibly more attractive approach matching the data observations considers:\n",
    "\n",
    "#### Tomek Links undersampling and SMOTE Oversampling:  \n",
    "  > Tomek Links uses a more restrictive condition resulting in less samples being removed. It requires both samples to be each other's nearest neighbours\n",
    "  \n",
    "  > SMOTE synthesizes samples from the minority class rather than creating copies based on those that exist already.\n",
    "\n",
    "### Let's attempt Combined Oversampling and Undersampling"
   ]
  },
  {
   "cell_type": "code",
   "execution_count": 11,
   "metadata": {
    "pycharm": {
     "is_executing": true
    }
   },
   "outputs": [
    {
     "data": {
      "text/html": [
       "<div>\n",
       "<style scoped>\n",
       "    .dataframe tbody tr th:only-of-type {\n",
       "        vertical-align: middle;\n",
       "    }\n",
       "\n",
       "    .dataframe tbody tr th {\n",
       "        vertical-align: top;\n",
       "    }\n",
       "\n",
       "    .dataframe thead th {\n",
       "        text-align: right;\n",
       "    }\n",
       "</style>\n",
       "<table border=\"1\" class=\"dataframe\">\n",
       "  <thead>\n",
       "    <tr style=\"text-align: right;\">\n",
       "      <th></th>\n",
       "      <th>step</th>\n",
       "      <th>customer</th>\n",
       "      <th>age</th>\n",
       "      <th>gender</th>\n",
       "      <th>merchant</th>\n",
       "      <th>category</th>\n",
       "      <th>amount</th>\n",
       "      <th>fraud</th>\n",
       "    </tr>\n",
       "  </thead>\n",
       "  <tbody>\n",
       "    <tr>\n",
       "      <th>0</th>\n",
       "      <td>156</td>\n",
       "      <td>210</td>\n",
       "      <td>4</td>\n",
       "      <td>2</td>\n",
       "      <td>30</td>\n",
       "      <td>12</td>\n",
       "      <td>4.550000</td>\n",
       "      <td>0</td>\n",
       "    </tr>\n",
       "    <tr>\n",
       "      <th>1</th>\n",
       "      <td>156</td>\n",
       "      <td>2753</td>\n",
       "      <td>2</td>\n",
       "      <td>2</td>\n",
       "      <td>30</td>\n",
       "      <td>12</td>\n",
       "      <td>39.680000</td>\n",
       "      <td>0</td>\n",
       "    </tr>\n",
       "    <tr>\n",
       "      <th>2</th>\n",
       "      <td>156</td>\n",
       "      <td>2285</td>\n",
       "      <td>4</td>\n",
       "      <td>1</td>\n",
       "      <td>18</td>\n",
       "      <td>12</td>\n",
       "      <td>26.890000</td>\n",
       "      <td>0</td>\n",
       "    </tr>\n",
       "    <tr>\n",
       "      <th>3</th>\n",
       "      <td>156</td>\n",
       "      <td>1650</td>\n",
       "      <td>3</td>\n",
       "      <td>2</td>\n",
       "      <td>30</td>\n",
       "      <td>12</td>\n",
       "      <td>17.250000</td>\n",
       "      <td>0</td>\n",
       "    </tr>\n",
       "    <tr>\n",
       "      <th>4</th>\n",
       "      <td>156</td>\n",
       "      <td>3585</td>\n",
       "      <td>5</td>\n",
       "      <td>2</td>\n",
       "      <td>30</td>\n",
       "      <td>12</td>\n",
       "      <td>35.720000</td>\n",
       "      <td>0</td>\n",
       "    </tr>\n",
       "    <tr>\n",
       "      <th>...</th>\n",
       "      <td>...</td>\n",
       "      <td>...</td>\n",
       "      <td>...</td>\n",
       "      <td>...</td>\n",
       "      <td>...</td>\n",
       "      <td>...</td>\n",
       "      <td>...</td>\n",
       "      <td>...</td>\n",
       "    </tr>\n",
       "    <tr>\n",
       "      <th>1174709</th>\n",
       "      <td>138</td>\n",
       "      <td>2370</td>\n",
       "      <td>2</td>\n",
       "      <td>1</td>\n",
       "      <td>40</td>\n",
       "      <td>13</td>\n",
       "      <td>3647.251725</td>\n",
       "      <td>1</td>\n",
       "    </tr>\n",
       "    <tr>\n",
       "      <th>1174710</th>\n",
       "      <td>59</td>\n",
       "      <td>3687</td>\n",
       "      <td>2</td>\n",
       "      <td>1</td>\n",
       "      <td>45</td>\n",
       "      <td>8</td>\n",
       "      <td>358.557564</td>\n",
       "      <td>1</td>\n",
       "    </tr>\n",
       "    <tr>\n",
       "      <th>1174711</th>\n",
       "      <td>52</td>\n",
       "      <td>2187</td>\n",
       "      <td>2</td>\n",
       "      <td>1</td>\n",
       "      <td>2</td>\n",
       "      <td>13</td>\n",
       "      <td>315.882207</td>\n",
       "      <td>1</td>\n",
       "    </tr>\n",
       "    <tr>\n",
       "      <th>1174712</th>\n",
       "      <td>109</td>\n",
       "      <td>1402</td>\n",
       "      <td>3</td>\n",
       "      <td>2</td>\n",
       "      <td>15</td>\n",
       "      <td>9</td>\n",
       "      <td>323.588970</td>\n",
       "      <td>1</td>\n",
       "    </tr>\n",
       "    <tr>\n",
       "      <th>1174713</th>\n",
       "      <td>78</td>\n",
       "      <td>2325</td>\n",
       "      <td>2</td>\n",
       "      <td>1</td>\n",
       "      <td>24</td>\n",
       "      <td>9</td>\n",
       "      <td>93.941094</td>\n",
       "      <td>1</td>\n",
       "    </tr>\n",
       "  </tbody>\n",
       "</table>\n",
       "<p>1174714 rows × 8 columns</p>\n",
       "</div>"
      ],
      "text/plain": [
       "         step  customer  age  gender  merchant  category       amount  fraud\n",
       "0         156       210    4       2        30        12     4.550000      0\n",
       "1         156      2753    2       2        30        12    39.680000      0\n",
       "2         156      2285    4       1        18        12    26.890000      0\n",
       "3         156      1650    3       2        30        12    17.250000      0\n",
       "4         156      3585    5       2        30        12    35.720000      0\n",
       "...       ...       ...  ...     ...       ...       ...          ...    ...\n",
       "1174709   138      2370    2       1        40        13  3647.251725      1\n",
       "1174710    59      3687    2       1        45         8   358.557564      1\n",
       "1174711    52      2187    2       1         2        13   315.882207      1\n",
       "1174712   109      1402    3       2        15         9   323.588970      1\n",
       "1174713    78      2325    2       1        24         9    93.941094      1\n",
       "\n",
       "[1174714 rows x 8 columns]"
      ]
     },
     "execution_count": 11,
     "metadata": {},
     "output_type": "execute_result"
    }
   ],
   "source": [
    "smotemek = SMOTETomek(sampling_strategy='auto')\n",
    "x_train_smt, y_train_smt = smotemek.fit_sample(X_origin, y_origin) # original data\n",
    "\n",
    "data_combined = x_train_smt\n",
    "data_combined[\"fraud\"]=y_train_smt\n",
    "data_combined"
   ]
  },
  {
   "cell_type": "code",
   "execution_count": 12,
   "metadata": {
    "pycharm": {
     "is_executing": true
    }
   },
   "outputs": [
    {
     "data": {
      "image/png": "[encoded data removed]",
      "text/plain": [
       "<Figure size 432x288 with 1 Axes>"
      ]
     },
     "metadata": {
      "needs_background": "light"
     },
     "output_type": "display_data"
    },
    {
     "data": {
      "text/plain": [
       "step       -0.019523\n",
       "customer   -0.007784\n",
       "age         0.538375\n",
       "gender      0.857972\n",
       "merchant    0.009784\n",
       "category   -0.769541\n",
       "amount      5.724828\n",
       "fraud       0.000000\n",
       "dtype: float64"
      ]
     },
     "execution_count": 12,
     "metadata": {},
     "output_type": "execute_result"
    }
   ],
   "source": [
    "sns.countplot(x=\"fraud\",data=data_combined, order = data_combined[\"fraud\"].value_counts().index)\n",
    "plt.title(\"Nr° Fraudulent Payments\")\n",
    "plt.show()\n",
    "\n",
    "data_combined.skew()"
   ]
  },
  {
   "cell_type": "code",
   "execution_count": 13,
   "metadata": {
    "pycharm": {
     "is_executing": true
    }
   },
   "outputs": [
    {
     "name": "stderr",
     "output_type": "stream",
     "text": [
      "/Library/Frameworks/Python.framework/Versions/3.8/lib/python3.8/site-packages/sklearn/linear_model/_logistic.py:763: ConvergenceWarning: lbfgs failed to converge (status=1):\n",
      "STOP: TOTAL NO. of ITERATIONS REACHED LIMIT.\n",
      "\n",
      "Increase the number of iterations (max_iter) or scale the data as shown in:\n",
      "    https://scikit-learn.org/stable/modules/preprocessing.html\n",
      "Please also refer to the documentation for alternative solver options:\n",
      "    https://scikit-learn.org/stable/modules/linear_model.html#logistic-regression\n",
      "  n_iter_i = _check_optimize_result(\n"
     ]
    },
    {
     "name": "stdout",
     "output_type": "stream",
     "text": [
      "Accuracy : 92.22%\n"
     ]
    },
    {
     "data": {
      "text/plain": [
       "<matplotlib.axes._subplots.AxesSubplot at 0x7ffdc0f38f40>"
      ]
     },
     "execution_count": 13,
     "metadata": {},
     "output_type": "execute_result"
    },
    {
     "data": {
      "image/png": "[encoded data removed]",
      "text/plain": [
       "<Figure size 432x288 with 1 Axes>"
      ]
     },
     "metadata": {
      "needs_background": "light"
     },
     "output_type": "display_data"
    }
   ],
   "source": [
    "# Let's compare to previous attempts for consistency\n",
    "X_train, X_test, y_train, y_test = train_test_split(x_train_smt,y_train_smt,test_size=0.3,random_state=42,shuffle=True,stratify=y_train_smt)\n",
    "X_train= X_train.drop(['fraud'],axis=1)\n",
    "X_test= X_test.drop(['fraud'],axis=1)\n",
    "logreg2 = LogisticRegression()\n",
    "clf2 = logreg2.fit(X_train, y_train)\n",
    "\n",
    "y_pred = clf2.predict(X_test)\n",
    "accuracy2 = accuracy_score(y_pred, y_test)\n",
    "print(\"Accuracy : %.2f%%\" % (accuracy2 * 100.0))\n",
    "sns.distplot(y_test-y_pred)"
   ]
  },
  {
   "cell_type": "markdown",
   "metadata": {},
   "source": [
    "#### It appears the Naive Linear regression model performs relatively the same on the three attempts at data resampling!\n",
    "\n",
    "### => Resampling improved my predictions\n",
    "## Let's attempt to use better cost-sensitive models instead of linear ones."
   ]
  },
  {
   "cell_type": "code",
   "execution_count": 37,
   "metadata": {
    "pycharm": {
     "is_executing": true
    }
   },
   "outputs": [
    {
     "name": "stdout",
     "output_type": "stream",
     "text": [
      "****** DecisionTreeClassifier r2_score =  0.985227643545252\n",
      "Classification Report for DecisionTreeClassifier: \n",
      "               precision    recall  f1-score   support\n",
      "\n",
      "           0       0.99      0.98      0.99    176208\n",
      "           1       0.98      0.99      0.99    176207\n",
      "\n",
      "    accuracy                           0.99    352415\n",
      "   macro avg       0.99      0.99      0.99    352415\n",
      "weighted avg       0.99      0.99      0.99    352415\n",
      "\n",
      "Confusion Matrix: \n",
      " [[172627   3581]\n",
      " [  1629 174578]]\n"
     ]
    }
   ],
   "source": [
    "# An ensemble of decision trees! where predictions are averaged to produce a single result\n",
    "from sklearn.tree import DecisionTreeClassifier\n",
    "\n",
    "X_train, X_test, y_train, y_test = train_test_split(x_train_smt,y_train_smt,test_size=0.3,random_state=42,shuffle=True,stratify=y_train_smt)\n",
    "X_train= X_train.drop(['fraud'],axis=1)\n",
    "X_test= X_test.drop(['fraud'],axis=1)\n",
    "\n",
    "# decision trees are really helpful because they are easier to interpret and faster to train.\n",
    "Mytree = DecisionTreeClassifier(max_depth=10)\n",
    "\n",
    "Mytree.fit(X_train,y_train)\n",
    "y_pred = Mytree.predict(X_test)\n",
    "\n",
    "print(\"****** DecisionTreeClassifier r2_score = \", Mytree.score(X_test, y_test))\n",
    "print(\"Classification Report for DecisionTreeClassifier: \\n\", classification_report(y_test, y_pred))\n",
    "print(\"Confusion Matrix: \\n\", confusion_matrix(y_test,y_pred))"
   ]
  },
  {
   "cell_type": "code",
   "execution_count": 36,
   "metadata": {
    "pycharm": {
     "is_executing": true
    }
   },
   "outputs": [
    {
     "name": "stdout",
     "output_type": "stream",
     "text": [
      "[1.28844539e-03 1.20801017e-03 6.32129134e-04 9.22983641e-03\n",
      " 7.55531135e-02 1.67674528e-01 7.44413937e-01]\n"
     ]
    },
    {
     "data": {
      "image/png": "[encoded data removed]",
      "text/plain": [
       "<Figure size 432x288 with 1 Axes>"
      ]
     },
     "metadata": {
      "needs_background": "light"
     },
     "output_type": "display_data"
    }
   ],
   "source": [
    "weights = Mytree.feature_importances_\n",
    "print(\"W: %.2f%%\" % (weights))\n",
    "columns = X_origin.columns\n",
    "sns.barplot(columns, weights)\n",
    "plt.title('Feature weights')\n",
    "plt.show()"
   ]
  },
  {
   "cell_type": "markdown",
   "metadata": {},
   "source": [
    "## In conclusion: MyModel does very well \n",
    "> 99% F1 score (this score takes both False Positives and False Negatives into account to strike a balance between precision and Recall)\n",
    "## It is reliable for the bank's benefit!\n",
    "\n",
    "> Solution accurately predicts whether or not a new payment (i.e. one not in the dataset) was fraudulent with reasonable accuracy."
   ]
  },
  {
   "cell_type": "code",
   "execution_count": null,
   "metadata": {},
   "outputs": [],
   "source": []
  }
 ],
 "metadata": {
  "kernelspec": {
   "display_name": "Python 3",
   "language": "python",
   "name": "python3"
  },
  "language_info": {
   "codemirror_mode": {
    "name": "ipython",
    "version": 3
   },
   "file_extension": ".py",
   "mimetype": "text/x-python",
   "name": "python",
   "nbconvert_exporter": "python",
   "pygments_lexer": "ipython3",
   "version": "3.8.2"
  }
 },
 "nbformat": 4,
 "nbformat_minor": 1
}